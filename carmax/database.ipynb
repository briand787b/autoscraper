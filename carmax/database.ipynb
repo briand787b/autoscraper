{
 "cells": [
  {
   "cell_type": "code",
   "execution_count": null,
   "id": "4d6fa716-7717-46b3-bebe-cfb0c8556013",
   "metadata": {},
   "outputs": [],
   "source": [
    "import database"
   ]
  },
  {
   "cell_type": "code",
   "execution_count": null,
   "id": "9ce78b55-abec-4a3c-9fad-a6b093ba0078",
   "metadata": {},
   "outputs": [],
   "source": [
    "pw = input('database password [default carmax]: ') or 'carmax'\n",
    "port = int(input('database port [default 5432]: ') or '5432')\n",
    "host = input('database host [default localhost]: ') or 'localhost'\n",
    "usr = input('database user [default carmax]: ') or 'carmax'\n",
    "eng = database.engine(pw, host=host, port=port, usr=usr)\n",
    "eng"
   ]
  },
  {
   "cell_type": "code",
   "execution_count": null,
   "id": "d0d4a6f4-07d8-4ac4-a3b7-279cbd04bf00",
   "metadata": {},
   "outputs": [],
   "source": [
    "database.create_tables(eng)"
   ]
  },
  {
   "cell_type": "code",
   "execution_count": null,
   "id": "2d994bff-36dd-4b2b-aa76-0f5c8fb0a5fc",
   "metadata": {},
   "outputs": [],
   "source": [
    "curated_listings = [\n",
    "  {\n",
    "    'body': '4d crew cab',\n",
    "     'carmax_id': 23660308,\n",
    "     'city': 'twin cities',\n",
    "     'color': 'silver',\n",
    "     'drive_type': '4wd',\n",
    "     'engine_cyl': 6,\n",
    "     'engine_size': '2.7L',\n",
    "     'engine_type': 'gas',\n",
    "     'features': [\n",
    "        '4WD/AWD',\n",
    "        'Alloy Wheels',\n",
    "        'Flex Fuel Vehicle',\n",
    "        'Power Mirrors',\n",
    "        'Power Locks',\n",
    "        'Power Windows',\n",
    "        'Bluetooth Technology',\n",
    "        'ABS Brakes',\n",
    "        'Smart Key',\n",
    "        'Android Auto',\n",
    "        'Traction Control',\n",
    "        'Auxiliary Audio Input',\n",
    "        'Cruise Control',\n",
    "        'Rear View Camera',\n",
    "        'Air Conditioning',\n",
    "        'Sync System',\n",
    "        'Cloth Seats',\n",
    "        'Automatic Transmission',\n",
    "        'Side Airbags',\n",
    "        'Overhead Airbags',\n",
    "        'Turbo Charged Engine',\n",
    "        'AM/FM Stereo',\n",
    "        'Apple CarPlay',\n",
    "        'Tow Hitch',\n",
    "        'Power Seat(s)',\n",
    "        'Parking Sensors',\n",
    "        'Front Seat Heaters',\n",
    "        'Remote Start',\n",
    "        'Running Boards',\n",
    "        'Navigation System',\n",
    "        'Satellite Radio Ready',\n",
    "        'Rear Defroster',\n",
    "        'SiriusXM Trial Available',\n",
    "     ],\n",
    "     'highlights': ['singleOwner', 'allNewTires', 'advancedFeatures'],\n",
    "     'make': 'ford',\n",
    "     'model': 'f150',\n",
    "     'mpg_city': 19,\n",
    "     'mpg_hwy': 24,\n",
    "     'msrp': 34998,\n",
    "     'packages': [],\n",
    "     'price': 34998,\n",
    "     'prior_uses': [],\n",
    "     'state': 'mn',\n",
    "     'store_id': 6008,\n",
    "     'trim': 'xlt',\n",
    "     'vin': '1FTEW1EP6LKE38692',\n",
    "     'year': 2020,\n",
    "     'zip': '55428'\n",
    "  },\n",
    "  {\n",
    "    'body': '4d crew cab',\n",
    "     'carmax_id': 23660308,\n",
    "     'city': 'twin cities',\n",
    "     'color': 'silver',\n",
    "     'drive_type': '4wd',\n",
    "     'engine_cyl': 6,\n",
    "     'engine_size': '2.7L',\n",
    "     'engine_type': 'gas',\n",
    "     'features': [],\n",
    "     'highlights': [],\n",
    "     'make': 'ford',\n",
    "     'model': 'f150',\n",
    "     'mpg_city': 19,\n",
    "     'mpg_hwy': 24,\n",
    "     'msrp': None,\n",
    "     'packages': [\n",
    "         '302A Luxury Package',\n",
    "     ],\n",
    "     'price': 34998,\n",
    "     'prior_uses': [10, 20],\n",
    "     'state': 'mn',\n",
    "     'store_id': 6008,\n",
    "     'trim': 'xlt',\n",
    "     'vin': '1FTEW1EP6LKE38692',\n",
    "     'year': 2020,\n",
    "     'zip': '55428'\n",
    "  },\n",
    "]"
   ]
  },
  {
   "cell_type": "code",
   "execution_count": null,
   "id": "71a866c6-46bb-4396-a914-aab4dfacf389",
   "metadata": {},
   "outputs": [],
   "source": [
    "database.save_listings(eng, curated_listings)"
   ]
  },
  {
   "cell_type": "code",
   "execution_count": null,
   "id": "d5f543f5-090d-4381-bd35-57be3e22b11a",
   "metadata": {},
   "outputs": [],
   "source": [
    "import json\n",
    "import scrape\n",
    "\n",
    "with open('data/_api_response.json') as file:\n",
    "    invlist = json.load(file)\n",
    "    \n",
    "real_listings = scrape.parse_resp(invlist)\n",
    "database.save_listings(eng, real_listings)"
   ]
  },
  {
   "cell_type": "code",
   "execution_count": null,
   "id": "8233f3da-8188-4bef-b8f6-d7b4eb2f8637",
   "metadata": {},
   "outputs": [],
   "source": [
    "results = database.select_listings(eng)"
   ]
  },
  {
   "cell_type": "code",
   "execution_count": null,
   "id": "26022e93-d5f7-4348-bf9e-39c78b5b3e0d",
   "metadata": {},
   "outputs": [],
   "source": [
    "database.export_listings(results)"
   ]
  },
  {
   "cell_type": "code",
   "execution_count": null,
   "id": "c48812d5-ee75-4979-b797-cad82b4d0136",
   "metadata": {},
   "outputs": [],
   "source": []
  }
 ],
 "metadata": {
  "kernelspec": {
   "display_name": "Python 3 (ipykernel)",
   "language": "python",
   "name": "python3"
  },
  "language_info": {
   "codemirror_mode": {
    "name": "ipython",
    "version": 3
   },
   "file_extension": ".py",
   "mimetype": "text/x-python",
   "name": "python",
   "nbconvert_exporter": "python",
   "pygments_lexer": "ipython3",
   "version": "3.11.0"
  }
 },
 "nbformat": 4,
 "nbformat_minor": 5
}
