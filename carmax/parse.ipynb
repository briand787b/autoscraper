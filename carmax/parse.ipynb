{
 "cells": [
  {
   "cell_type": "code",
   "execution_count": 1,
   "id": "1044dbf7-8f4c-468d-b445-25a80a72fdc8",
   "metadata": {},
   "outputs": [],
   "source": [
    "import json\n",
    "import scrape"
   ]
  },
  {
   "cell_type": "code",
   "execution_count": 3,
   "id": "c19ee485-690c-48e0-bec3-e949a4ce77ea",
   "metadata": {},
   "outputs": [
    {
     "data": {
      "text/plain": [
       "'number of items returned: 39'"
      ]
     },
     "execution_count": 3,
     "metadata": {},
     "output_type": "execute_result"
    }
   ],
   "source": [
    "with open('data/response.json') as file:\n",
    "    invlist = json.load(file)\n",
    "    \n",
    "f'number of items returned: {len(invlist[\"items\"])}'"
   ]
  },
  {
   "cell_type": "code",
   "execution_count": 4,
   "id": "a50a2925-2fdd-4edc-9165-f8d557c85238",
   "metadata": {},
   "outputs": [],
   "source": [
    "listings = scrape.parse_resp(invlist)"
   ]
  },
  {
   "cell_type": "code",
   "execution_count": 8,
   "id": "d6eb57c7-ee97-4f66-bf93-4b7af07e0753",
   "metadata": {},
   "outputs": [
    {
     "data": {
      "text/plain": [
       "{'body': '4d crew cab',\n",
       " 'carmax_id': 22715917,\n",
       " 'city': 'town center',\n",
       " 'color': 'red',\n",
       " 'drive_type': '4wd',\n",
       " 'engine_cyl': 6,\n",
       " 'engine_size': '3.6l',\n",
       " 'engine_type': 'gas',\n",
       " 'features': ['Power Mirrors',\n",
       "  '4WD/AWD',\n",
       "  'Power Windows',\n",
       "  'Alloy Wheels',\n",
       "  'Power Locks',\n",
       "  'AM/FM Stereo',\n",
       "  'Traction Control',\n",
       "  'ABS Brakes',\n",
       "  'Android Auto',\n",
       "  'Rear View Camera',\n",
       "  'Cruise Control',\n",
       "  'Automatic Transmission',\n",
       "  'Auxiliary Audio Input',\n",
       "  'Satellite Radio Ready',\n",
       "  'Bluetooth Technology',\n",
       "  'Overhead Airbags',\n",
       "  'Apple CarPlay',\n",
       "  'Side Airbags',\n",
       "  'Air Conditioning',\n",
       "  'Leather Seats',\n",
       "  'SiriusXM Trial Available',\n",
       "  'Power Seat(s)',\n",
       "  'Remote Start'],\n",
       " 'highlights': ['advancedFeatures'],\n",
       " 'make': 'chevrolet',\n",
       " 'model': 'colorado',\n",
       " 'mpg_city': 17,\n",
       " 'mpg_hwy': 24,\n",
       " 'msrp': None,\n",
       " 'packages': [],\n",
       " 'price': 28998,\n",
       " 'prior_uses': [30, 80, 110],\n",
       " 'state': 'ga',\n",
       " 'store_id': 7103,\n",
       " 'trim': 'lt',\n",
       " 'vin': '1GCGTCEN8J1264915',\n",
       " 'year': 2018,\n",
       " 'zip': '30144'}"
      ]
     },
     "execution_count": 8,
     "metadata": {},
     "output_type": "execute_result"
    }
   ],
   "source": [
    "listings[0]"
   ]
  },
  {
   "cell_type": "code",
   "execution_count": 9,
   "id": "5036cff6-2339-429e-9551-0fbcbe6b9285",
   "metadata": {},
   "outputs": [
    {
     "data": {
      "text/plain": [
       "{'body': '4d crew cab',\n",
       " 'carmax_id': 23738134,\n",
       " 'city': 'atlanta',\n",
       " 'color': 'black',\n",
       " 'drive_type': '4wd',\n",
       " 'engine_cyl': 6,\n",
       " 'engine_size': '3.6l',\n",
       " 'engine_type': 'gas',\n",
       " 'features': ['SiriusXM Trial Available',\n",
       "  '4WD/AWD',\n",
       "  'Tow Hitch',\n",
       "  'Bed Liner',\n",
       "  'Power Locks',\n",
       "  'ABS Brakes',\n",
       "  'Auxiliary Audio Input',\n",
       "  'Power Seat(s)',\n",
       "  'Air Conditioning',\n",
       "  'Traction Control',\n",
       "  'Rear View Camera',\n",
       "  'Overhead Airbags',\n",
       "  'Apple CarPlay',\n",
       "  'Power Windows',\n",
       "  'Cloth Seats',\n",
       "  'Automatic Transmission',\n",
       "  'Bluetooth Technology',\n",
       "  'Power Mirrors',\n",
       "  'Cruise Control',\n",
       "  'Side Airbags',\n",
       "  'Satellite Radio Ready',\n",
       "  'Alloy Wheels',\n",
       "  'AM/FM Stereo',\n",
       "  'Android Auto'],\n",
       " 'highlights': ['singleOwner'],\n",
       " 'make': 'chevrolet',\n",
       " 'model': 'colorado',\n",
       " 'mpg_city': 17,\n",
       " 'mpg_hwy': 24,\n",
       " 'msrp': 35500,\n",
       " 'packages': [],\n",
       " 'price': 28998,\n",
       " 'prior_uses': [],\n",
       " 'state': 'ga',\n",
       " 'store_id': 7298,\n",
       " 'trim': 'work truck',\n",
       " 'vin': '1GCGTBEN7M1142660',\n",
       " 'year': 2021,\n",
       " 'zip': '30076'}"
      ]
     },
     "execution_count": 9,
     "metadata": {},
     "output_type": "execute_result"
    }
   ],
   "source": [
    "listings[-1]"
   ]
  },
  {
   "cell_type": "code",
   "execution_count": null,
   "id": "ea41b1a6-5ae8-4860-8971-bab0a3174d57",
   "metadata": {},
   "outputs": [],
   "source": [
    "print(f'{json.dumps(l, indent=4)}')"
   ]
  },
  {
   "cell_type": "code",
   "execution_count": null,
   "id": "ed6b46f7-2536-49fb-8b3b-15b4fdb0125e",
   "metadata": {},
   "outputs": [],
   "source": []
  }
 ],
 "metadata": {
  "kernelspec": {
   "display_name": "Python 3 (ipykernel)",
   "language": "python",
   "name": "python3"
  },
  "language_info": {
   "codemirror_mode": {
    "name": "ipython",
    "version": 3
   },
   "file_extension": ".py",
   "mimetype": "text/x-python",
   "name": "python",
   "nbconvert_exporter": "python",
   "pygments_lexer": "ipython3",
   "version": "3.11.0"
  },
  "vscode": {
   "interpreter": {
    "hash": "1f28607707a68e9dad9b85d2e9c70f706f2c56d21da7d8590a985a7cc9681bf5"
   }
  }
 },
 "nbformat": 4,
 "nbformat_minor": 5
}
