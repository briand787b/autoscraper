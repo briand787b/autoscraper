{
 "cells": [
  {
   "cell_type": "code",
   "execution_count": 1,
   "id": "1044dbf7-8f4c-468d-b445-25a80a72fdc8",
   "metadata": {},
   "outputs": [],
   "source": [
    "import json\n",
    "import scrape"
   ]
  },
  {
   "cell_type": "code",
   "execution_count": null,
   "id": "c19ee485-690c-48e0-bec3-e949a4ce77ea",
   "metadata": {},
   "outputs": [
    {
     "data": {
      "text/plain": [
       "'number of items returned: 71'"
      ]
     },
     "execution_count": 2,
     "metadata": {},
     "output_type": "execute_result"
    }
   ],
   "source": [
    "with open('data/_api_response.json') as file:\n",
    "    invlist = json.load(file)\n",
    "    \n",
    "f'number of items returned: {len(invlist[\"items\"])}'"
   ]
  },
  {
   "cell_type": "code",
   "execution_count": null,
   "id": "a50a2925-2fdd-4edc-9165-f8d557c85238",
   "metadata": {},
   "outputs": [],
   "source": [
    "listings = scrape.parse_resp(invlist)"
   ]
  },
  {
   "cell_type": "code",
   "execution_count": null,
   "id": "d6eb57c7-ee97-4f66-bf93-4b7af07e0753",
   "metadata": {},
   "outputs": [],
   "source": [
    "l = listings[70]"
   ]
  },
  {
   "cell_type": "code",
   "execution_count": null,
   "id": "5036cff6-2339-429e-9551-0fbcbe6b9285",
   "metadata": {},
   "outputs": [
    {
     "data": {
      "text/plain": [
       "{'body': '4d crew cab',\n",
       " 'carmax_id': 23510664,\n",
       " 'city': 'atlanta',\n",
       " 'color': 'black',\n",
       " 'drive_type': '4wd',\n",
       " 'engine_cyl': 8,\n",
       " 'engine_size': '6.2L',\n",
       " 'engine_type': 'gas',\n",
       " 'features': ['Power Locks',\n",
       "  'Power Windows',\n",
       "  'AM/FM Stereo',\n",
       "  'CD Audio',\n",
       "  'Auxiliary Audio Input',\n",
       "  'Air Conditioning',\n",
       "  'Sunroof(s)',\n",
       "  'Cruise Control',\n",
       "  'Power Seat(s)',\n",
       "  'ABS Brakes',\n",
       "  'Rear Defroster',\n",
       "  'Automatic Transmission',\n",
       "  'Memory Seat(s)',\n",
       "  '4WD/AWD',\n",
       "  'Power Mirrors',\n",
       "  'Bed Liner',\n",
       "  'Running Boards',\n",
       "  'Navigation System',\n",
       "  'Side Airbags',\n",
       "  'Alloy Wheels',\n",
       "  'Traction Control',\n",
       "  'A/C Seat(s)',\n",
       "  'Rear View Camera',\n",
       "  'Sync System',\n",
       "  'Overhead Airbags',\n",
       "  'Leatherette & Cloth',\n",
       "  'Parking Sensors',\n",
       "  'Remote Start',\n",
       "  'Front Seat Heaters',\n",
       "  'Tow Hitch',\n",
       "  'Satellite Radio Ready',\n",
       "  'Bluetooth Technology',\n",
       "  'SiriusXM Trial Available',\n",
       "  'Premium Sound'],\n",
       " 'highlights': ['advancedFeatures', 'premiumAudio'],\n",
       " 'make': 'ford',\n",
       " 'model': 'f150',\n",
       " 'mpg_city': 11,\n",
       " 'mpg_hwy': 16,\n",
       " 'msrp': None,\n",
       " 'packages': [],\n",
       " 'price': 35998,\n",
       " 'prior_uses': [20],\n",
       " 'state': 'ga',\n",
       " 'store_id': 7298,\n",
       " 'trim': 'svt raptor',\n",
       " 'vin': '1FTFW1R66EFB25577',\n",
       " 'year': 2014,\n",
       " 'zip': '30076'}"
      ]
     },
     "execution_count": 5,
     "metadata": {},
     "output_type": "execute_result"
    }
   ],
   "source": [
    "l"
   ]
  },
  {
   "cell_type": "code",
   "execution_count": null,
   "id": "ea41b1a6-5ae8-4860-8971-bab0a3174d57",
   "metadata": {},
   "outputs": [],
   "source": [
    "print(f'{json.dumps(l, indent=4)}')"
   ]
  },
  {
   "cell_type": "code",
   "execution_count": null,
   "id": "ed6b46f7-2536-49fb-8b3b-15b4fdb0125e",
   "metadata": {},
   "outputs": [],
   "source": []
  }
 ],
 "metadata": {
  "kernelspec": {
   "display_name": "Python 3 (ipykernel)",
   "language": "python",
   "name": "python3"
  },
  "language_info": {
   "codemirror_mode": {
    "name": "ipython",
    "version": 3
   },
   "file_extension": ".py",
   "mimetype": "text/x-python",
   "name": "python",
   "nbconvert_exporter": "python",
   "pygments_lexer": "ipython3",
   "version": "3.11.0"
  },
  "vscode": {
   "interpreter": {
    "hash": "1f28607707a68e9dad9b85d2e9c70f706f2c56d21da7d8590a985a7cc9681bf5"
   }
  }
 },
 "nbformat": 4,
 "nbformat_minor": 5
}
