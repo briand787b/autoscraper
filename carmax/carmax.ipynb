{
 "cells": [
  {
   "cell_type": "code",
   "execution_count": null,
   "id": "9158d015-9869-4dc0-9331-3a7f76100a4b",
   "metadata": {},
   "outputs": [],
   "source": [
    "import carmax"
   ]
  },
  {
   "cell_type": "code",
   "execution_count": null,
   "id": "4f575004-dc4c-4373-9433-fcea702851c3",
   "metadata": {},
   "outputs": [],
   "source": [
    "pw = input('database password: [default: carmax]: ') or 'carmax'\n",
    "host = input('database host: [default: localhost]: ') or 'localhost'\n",
    "port = input('database port: [default 5432]: ') or '5432'\n",
    "print(f'will save listings to database at {host}:{port}')"
   ]
  },
  {
   "cell_type": "code",
   "execution_count": null,
   "id": "6c35f1ce-a8bc-4cb4-9ab0-e645de468dc0",
   "metadata": {},
   "outputs": [],
   "source": [
    "# run the application just like the cli would\n",
    "carmax.scrape_core(pw, host, port)"
   ]
  }
 ],
 "metadata": {
  "kernelspec": {
   "display_name": "Python 3 (ipykernel)",
   "language": "python",
   "name": "python3"
  },
  "language_info": {
   "codemirror_mode": {
    "name": "ipython",
    "version": 3
   },
   "file_extension": ".py",
   "mimetype": "text/x-python",
   "name": "python",
   "nbconvert_exporter": "python",
   "pygments_lexer": "ipython3",
   "version": "3.11.0"
  },
  "vscode": {
   "interpreter": {
    "hash": "1f28607707a68e9dad9b85d2e9c70f706f2c56d21da7d8590a985a7cc9681bf5"
   }
  }
 },
 "nbformat": 4,
 "nbformat_minor": 5
}
