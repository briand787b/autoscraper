{
 "cells": [
  {
   "cell_type": "code",
   "execution_count": 1,
   "id": "7fa0829f-9881-4b4b-8537-19c0b7ed206f",
   "metadata": {},
   "outputs": [],
   "source": [
    "import scrape"
   ]
  },
  {
   "cell_type": "code",
   "execution_count": null,
   "id": "33b45faa-0f39-4943-9566-980c9f9d60c7",
   "metadata": {},
   "outputs": [],
   "source": [
    "listings = scrape.scrape('ford', 'f150', '4d-crew-cab', '4wdawd')"
   ]
  },
  {
   "cell_type": "code",
   "execution_count": null,
   "id": "8fc27ea2-eadc-4298-b058-6f8995e52c8e",
   "metadata": {},
   "outputs": [],
   "source": [
    "listings"
   ]
  },
  {
   "cell_type": "code",
   "execution_count": null,
   "id": "bbd3709a-2b5c-462f-a53c-0b91bdaa0973",
   "metadata": {},
   "outputs": [],
   "source": [
    "for ls in listings:\n",
    "    print(f'listings iteration: {ls}')"
   ]
  }
 ],
 "metadata": {
  "kernelspec": {
   "display_name": "Python 3 (ipykernel)",
   "language": "python",
   "name": "python3"
  },
  "language_info": {
   "codemirror_mode": {
    "name": "ipython",
    "version": 3
   },
   "file_extension": ".py",
   "mimetype": "text/x-python",
   "name": "python",
   "nbconvert_exporter": "python",
   "pygments_lexer": "ipython3",
   "version": "3.11.0"
  }
 },
 "nbformat": 4,
 "nbformat_minor": 5
}
