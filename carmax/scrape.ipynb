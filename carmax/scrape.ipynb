{
 "cells": [
  {
   "cell_type": "code",
   "execution_count": 1,
   "id": "bbb19330-36fc-4500-afb4-163a8dbe5ff2",
   "metadata": {},
   "outputs": [],
   "source": [
    "import httpx"
   ]
  },
  {
   "cell_type": "code",
   "execution_count": 2,
   "id": "ddffa130-5a96-45f0-aed2-da1ddef5774c",
   "metadata": {},
   "outputs": [],
   "source": [
    "client = httpx.Client(timeout=120)  # long, but not infinite"
   ]
  },
  {
   "cell_type": "code",
   "execution_count": 3,
   "id": "57dca9d5-5ce1-402e-a139-141dd2b08521",
   "metadata": {},
   "outputs": [],
   "source": [
    "base_url = 'https://www.carmax.com/cars/api/search/run?uri=/cars/chevrolet/tahoe?includenontransferables=true&skip=0&take=100&zipCode=30523&radius=radius-nationwide&shipping=-1&sort=lowest-price&scoringProfile=BestMatchScoreVariant3'\n",
    "params = {\n",
    "    \n",
    "}"
   ]
  },
  {
   "cell_type": "code",
   "execution_count": 4,
   "id": "2478af4a-089d-433b-8ec5-4202de9e2b65",
   "metadata": {},
   "outputs": [],
   "source": [
    "req = httpx.Request('GET', base_url, params=params, headers={\n",
    "        'User-Agent': 'Mozilla/5.0 (X11; Linux x86_64; rv:108.0) Gecko/20100101 Firefox/108.0',\n",
    "        'Accept': 'text/html,application/xhtml+xml,application/xml;q=0.9,image/avif,image/webp,*/*;q=0.8',\n",
    "        'Accept-Encoding': 'gzip, deflate, br',\n",
    "        'Accept-Language': 'en-US,en;q=0.5',\n",
    "\n",
    "    })"
   ]
  },
  {
   "cell_type": "code",
   "execution_count": 5,
   "id": "9abfe3d9-b13c-4b4d-a46c-617c320246bc",
   "metadata": {},
   "outputs": [
    {
     "data": {
      "text/plain": [
       "<Request('GET', 'https://www.carmax.com/cars/api/search/run?uri=%2Fcars%2Fchevrolet%2Ftahoe%3Fincludenontransferables%3Dtrue&skip=0&take=100&zipCode=30523&radius=radius-nationwide&shipping=-1&sort=lowest-price&scoringProfile=BestMatchScoreVariant3')>"
      ]
     },
     "execution_count": 5,
     "metadata": {},
     "output_type": "execute_result"
    }
   ],
   "source": [
    "req"
   ]
  },
  {
   "cell_type": "code",
   "execution_count": null,
   "id": "5311c2bc-a314-462a-a487-7a3316018bbf",
   "metadata": {},
   "outputs": [],
   "source": [
    "req."
   ]
  }
 ],
 "metadata": {
  "kernelspec": {
   "display_name": "Python 3 (ipykernel)",
   "language": "python",
   "name": "python3"
  },
  "language_info": {
   "codemirror_mode": {
    "name": "ipython",
    "version": 3
   },
   "file_extension": ".py",
   "mimetype": "text/x-python",
   "name": "python",
   "nbconvert_exporter": "python",
   "pygments_lexer": "ipython3",
   "version": "3.11.0"
  }
 },
 "nbformat": 4,
 "nbformat_minor": 5
}
