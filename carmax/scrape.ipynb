{
 "cells": [
  {
   "cell_type": "code",
   "execution_count": 1,
   "id": "7fa0829f-9881-4b4b-8537-19c0b7ed206f",
   "metadata": {},
   "outputs": [],
   "source": [
    "import scrape"
   ]
  },
  {
   "cell_type": "code",
   "execution_count": 4,
   "id": "33b45faa-0f39-4943-9566-980c9f9d60c7",
   "metadata": {},
   "outputs": [
    {
     "name": "stdout",
     "output_type": "stream",
     "text": [
      "search filter: /cars/ford/expedition/4wdawd\n",
      "completed request\n"
     ]
    }
   ],
   "source": [
    "resp = scrape.send_req('ford', 'expedition', scrape.FILTER_FOUR_WHEEL_DRIVE, take=1)\n",
    "listing = scrape.parse_resp(resp)"
   ]
  },
  {
   "cell_type": "code",
   "execution_count": 5,
   "id": "210b6307",
   "metadata": {},
   "outputs": [
    {
     "data": {
      "text/plain": [
       "[{'body': '4d sport utility',\n",
       "  'carmax_id': 23015453,\n",
       "  'city': 'macon',\n",
       "  'color': 'silver',\n",
       "  'drive_type': 'four wheel drive',\n",
       "  'engine_cyl': 6,\n",
       "  'engine_size': '3.5l',\n",
       "  'engine_type': 'gas',\n",
       "  'features': ['AM/FM Stereo',\n",
       "   'Power Windows',\n",
       "   'Rear Air Conditioning',\n",
       "   'Cruise Control',\n",
       "   'Power Locks',\n",
       "   'Cloth Seats',\n",
       "   'Power Mirrors',\n",
       "   'Third Row Seat',\n",
       "   'Auxiliary Audio Input',\n",
       "   'Air Conditioning',\n",
       "   'ABS Brakes',\n",
       "   'Power Seat(s)',\n",
       "   '4WD/AWD',\n",
       "   'Automatic Transmission',\n",
       "   'Power Folding Third Row',\n",
       "   'Running Boards',\n",
       "   'Turbo Charged Engine',\n",
       "   'Sync System',\n",
       "   'Traction Control',\n",
       "   'Alloy Wheels',\n",
       "   'Satellite Radio Ready',\n",
       "   'Parking Sensors',\n",
       "   'Side Airbags',\n",
       "   'Bluetooth Technology',\n",
       "   'Apple CarPlay',\n",
       "   'Android Auto',\n",
       "   'Rear View Camera',\n",
       "   'Rear Defroster',\n",
       "   'Full Roof Rack',\n",
       "   'Smart Key',\n",
       "   'Overhead Airbags',\n",
       "   'SiriusXM Trial Available',\n",
       "   'Power Hatch/Deck Lid'],\n",
       "  'highlights': ['advancedFeatures'],\n",
       "  'make': 'ford',\n",
       "  'mileage': 66898,\n",
       "  'model': 'expedition',\n",
       "  'mpg_city': 16,\n",
       "  'mpg_hwy': 21,\n",
       "  'msrp': None,\n",
       "  'packages': [],\n",
       "  'price': 37998,\n",
       "  'prior_uses': [30, 380],\n",
       "  'state': 'ga',\n",
       "  'store_id': 6116,\n",
       "  'trim': 'max xlt',\n",
       "  'vin': '1FMJK1JT1KEA50579',\n",
       "  'year': 2019,\n",
       "  'zip': None}]"
      ]
     },
     "execution_count": 5,
     "metadata": {},
     "output_type": "execute_result"
    }
   ],
   "source": [
    "listing"
   ]
  }
 ],
 "metadata": {
  "kernelspec": {
   "display_name": "Python 3 (ipykernel)",
   "language": "python",
   "name": "python3"
  },
  "language_info": {
   "codemirror_mode": {
    "name": "ipython",
    "version": 3
   },
   "file_extension": ".py",
   "mimetype": "text/x-python",
   "name": "python",
   "nbconvert_exporter": "python",
   "pygments_lexer": "ipython3",
   "version": "3.11.0"
  }
 },
 "nbformat": 4,
 "nbformat_minor": 5
}
