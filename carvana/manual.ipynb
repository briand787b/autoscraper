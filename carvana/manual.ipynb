{
 "cells": [
  {
   "cell_type": "code",
   "execution_count": 6,
   "id": "8e22e776-ebc9-4800-9332-b7b038e64d63",
   "metadata": {},
   "outputs": [],
   "source": [
    "import httpx\n",
    "import re\n",
    "from bs4 import BeautifulSoup\n",
    "import json"
   ]
  },
  {
   "cell_type": "code",
   "execution_count": 2,
   "id": "c0ce9252-2d96-43b8-9e9f-b15c9b12dfc4",
   "metadata": {},
   "outputs": [],
   "source": [
    "url = \"https://www.carvana.com/cars/ford-f150-supercrew-cab/4wd-awd\"\n",
    "with httpx.Client() as client:\n",
    "    resp = client.get(url)\n",
    "    htmlbody = resp.text"
   ]
  },
  {
   "cell_type": "code",
   "execution_count": 3,
   "id": "8c5044c6-0a46-48c1-8ec1-011ed9552ef7",
   "metadata": {},
   "outputs": [],
   "source": [
    "bs = BeautifulSoup(htmlbody, 'html.parser')\n",
    "data = bs.find('script', text=re.compile('window.__PRELOADED_STATE__')).get_text()"
   ]
  },
  {
   "cell_type": "code",
   "execution_count": 4,
   "id": "0d437993-1447-43a0-b0d6-3dd801b8806b",
   "metadata": {},
   "outputs": [],
   "source": [
    "inv = data.split('window.__PRELOADED_STATE__ = ')[1].split('window.__APOLLO_STATE__')[0]"
   ]
  },
  {
   "cell_type": "code",
   "execution_count": 8,
   "id": "14e96f9a-203e-4c3b-803a-399457aa5ef1",
   "metadata": {},
   "outputs": [],
   "source": [
    "inv_json = json.loads(inv)\n",
    "type(inv_json)\n",
    "with open('data/_ipy.json', mode='w') as file:\n",
    "    json.dump(inv_json, file)\n"
   ]
  },
  {
   "cell_type": "code",
   "execution_count": 9,
   "id": "963966dd-740f-43c0-881e-0a0b1d83fcce",
   "metadata": {},
   "outputs": [
    {
     "data": {
      "text/plain": [
       "24"
      ]
     },
     "execution_count": 9,
     "metadata": {},
     "output_type": "execute_result"
    }
   ],
   "source": [
    "inv_itms = inv_json['v2/inventory']['vehicles']\n",
    "len(inv_itms)"
   ]
  },
  {
   "cell_type": "code",
   "execution_count": 10,
   "id": "2b39f75f-e924-4914-8a6b-10ba8bf9d0b3",
   "metadata": {},
   "outputs": [],
   "source": [
    "itm = inv_itms[0]\n",
    "# itm"
   ]
  },
  {
   "cell_type": "code",
   "execution_count": 11,
   "id": "160be665-6bf0-433a-afa7-ce9ed74cf02d",
   "metadata": {},
   "outputs": [],
   "source": [
    "with httpx.Client() as client:\n",
    "    resp = client.get(f'https://www.carvana.com/vehicle/{itm[\"vehicleId\"]}')"
   ]
  },
  {
   "cell_type": "code",
   "execution_count": 12,
   "id": "eac1d870-0614-4b07-b509-651576f8a58b",
   "metadata": {},
   "outputs": [],
   "source": [
    "bs = BeautifulSoup(resp.text, 'html.parser')\n",
    "script = bs.find('script', {\"id\": \"__NEXT_DATA__\"})\n",
    "#script"
   ]
  },
  {
   "cell_type": "code",
   "execution_count": 13,
   "id": "faddb298-7f81-40d9-b4e1-d1041d91e62a",
   "metadata": {},
   "outputs": [],
   "source": [
    "itmjson = json.loads(script.text)\n",
    "#itmjson"
   ]
  },
  {
   "cell_type": "code",
   "execution_count": 14,
   "id": "51837ef5-7ff7-426c-afe4-b410afd765ad",
   "metadata": {},
   "outputs": [],
   "source": [
    "with open('data/_ipynb_item.json', mode='w+') as file:\n",
    "    json.dump(itmjson, file)"
   ]
  },
  {
   "cell_type": "code",
   "execution_count": null,
   "id": "7bb32723-abe5-41c2-968a-16b252ea9d96",
   "metadata": {},
   "outputs": [],
   "source": []
  }
 ],
 "metadata": {
  "kernelspec": {
   "display_name": "Python 3 (ipykernel)",
   "language": "python",
   "name": "python3"
  },
  "language_info": {
   "codemirror_mode": {
    "name": "ipython",
    "version": 3
   },
   "file_extension": ".py",
   "mimetype": "text/x-python",
   "name": "python",
   "nbconvert_exporter": "python",
   "pygments_lexer": "ipython3",
   "version": "3.11.0"
  }
 },
 "nbformat": 4,
 "nbformat_minor": 5
}
