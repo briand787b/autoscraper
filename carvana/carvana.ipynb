{
 "cells": [
  {
   "cell_type": "code",
   "execution_count": 1,
   "id": "326163ba-b7b2-4f09-bdef-412cb1e131ff",
   "metadata": {},
   "outputs": [],
   "source": [
    "import database as db\n",
    "import scrape as sc"
   ]
  },
  {
   "cell_type": "code",
   "execution_count": 2,
   "id": "65143a6a-92e5-4bda-83ae-a8c215b4e16f",
   "metadata": {},
   "outputs": [
    {
     "name": "stdin",
     "output_type": "stream",
     "text": [
      "database password [default carvana]:  \n",
      "database port [default 35432]:  \n",
      "database host [default localhost]:  \n"
     ]
    }
   ],
   "source": [
    "eng = db.engine_from_cli()"
   ]
  },
  {
   "cell_type": "code",
   "execution_count": 3,
   "id": "d3a914ff-9369-43ae-9090-23aa6a68ec9b",
   "metadata": {},
   "outputs": [
    {
     "name": "stdout",
     "output_type": "stream",
     "text": [
      "2023-02-26 15:18:55,606 INFO sqlalchemy.engine.Engine select pg_catalog.version()\n",
      "2023-02-26 15:18:55,606 INFO sqlalchemy.engine.Engine [raw sql] {}\n",
      "2023-02-26 15:18:55,608 INFO sqlalchemy.engine.Engine select current_schema()\n",
      "2023-02-26 15:18:55,608 INFO sqlalchemy.engine.Engine [raw sql] {}\n",
      "2023-02-26 15:18:55,609 INFO sqlalchemy.engine.Engine show standard_conforming_strings\n",
      "2023-02-26 15:18:55,609 INFO sqlalchemy.engine.Engine [raw sql] {}\n",
      "2023-02-26 15:18:55,610 INFO sqlalchemy.engine.Engine BEGIN (implicit)\n",
      "2023-02-26 15:18:55,610 INFO sqlalchemy.engine.Engine \n",
      "                CREATE TABLE IF NOT EXISTS listings (\n",
      "                    id                          SERIAL PRIMARY KEY,\n",
      "                    body                        VARCHAR(24),\n",
      "                    carvana_id                  INTEGER,\n",
      "                    city                        VARCHAR(55),\n",
      "                    color                       VARCHAR(55),\n",
      "                    drive_type                  VARCHAR(8),\n",
      "                    engine                      VARCHAR(55),\n",
      "                    kbb_value                   INTEGER,\n",
      "                    make                        VARCHAR(55),\n",
      "                    mfg_basic_warranty_miles    INTEGER,\n",
      "                    mfg_basic_warranty_months   SMALLINT,\n",
      "                    mfg_dt_warranty_miles       INTEGER,\n",
      "                    mfg_dt_warranty_months      SMALLINT,\n",
      "                    mileage                     INTEGER,\n",
      "                    model                       VARCHAR(55),\n",
      "                    num_keys                    SMALLINT,\n",
      "                    price                       INTEGER,\n",
      "                    rem_warranty_miles          INTEGER,\n",
      "                    rem_warranty_months         SMALLINT,\n",
      "                    rem_dt_warranty_miles       INTEGER,\n",
      "                    rem_dt_warranty_months      SMALLINT,\n",
      "                    seating                     SMALLINT,\n",
      "                    state                       VARCHAR(2),\n",
      "                    transmission                VARCHAR(55),\n",
      "                    trim                        VARCHAR(55),\n",
      "                    vin                         VARCHAR(17),\n",
      "                    year                        SMALLINT,\n",
      "                    zip                         VARCHAR(5),\n",
      "                    scrape_date                 DATE NOT NULL DEFAULT CURRENT_DATE\n",
      "                );\n",
      "            \n",
      "2023-02-26 15:18:55,610 INFO sqlalchemy.engine.Engine [generated in 0.00031s] {}\n",
      "2023-02-26 15:18:55,611 INFO sqlalchemy.engine.Engine COMMIT\n",
      "2023-02-26 15:18:55,612 INFO sqlalchemy.engine.Engine BEGIN (implicit)\n",
      "2023-02-26 15:18:55,612 INFO sqlalchemy.engine.Engine \n",
      "                CREATE TABLE IF NOT EXISTS vehicle_features (\n",
      "                    vin             VARCHAR(17) NOT NULL,\n",
      "                    name            VARCHAR(255) NOT NULL,\n",
      "                    kbb_option_id   INTEGER NOT NULL,\n",
      "                    scrape_date     DATE NOT NULL DEFAULT CURRENT_DATE,\n",
      "                    PRIMARY KEY (vin, name)\n",
      "                );\n",
      "            \n",
      "2023-02-26 15:18:55,612 INFO sqlalchemy.engine.Engine [generated in 0.00036s] {}\n",
      "2023-02-26 15:18:55,613 INFO sqlalchemy.engine.Engine COMMIT\n",
      "2023-02-26 15:18:55,613 INFO sqlalchemy.engine.Engine BEGIN (implicit)\n",
      "2023-02-26 15:18:55,614 INFO sqlalchemy.engine.Engine \n",
      "                CREATE TABLE IF NOT EXISTS vehicle_highlights (\n",
      "                    vin             VARCHAR(17) NOT NULL,\n",
      "                    name            VARCHAR(255) NOT NULL,\n",
      "                    scrape_date     DATE NOT NULL DEFAULT CURRENT_DATE,\n",
      "                    PRIMARY KEY (vin, name)\n",
      "                );\n",
      "            \n",
      "2023-02-26 15:18:55,614 INFO sqlalchemy.engine.Engine [generated in 0.00033s] {}\n",
      "2023-02-26 15:18:55,615 INFO sqlalchemy.engine.Engine COMMIT\n",
      "2023-02-26 15:18:55,615 INFO sqlalchemy.engine.Engine BEGIN (implicit)\n",
      "2023-02-26 15:18:55,615 INFO sqlalchemy.engine.Engine \n",
      "                CREATE TABLE IF NOT EXISTS vehicle_imperfections (\n",
      "                    id          INTEGER PRIMARY KEY,\n",
      "                    vin         VARCHAR(17) NOT NULL,\n",
      "                    description VARCHAR(255) NOT NULL,\n",
      "                    loc         VARCHAR(55) NOT NULL,\n",
      "                    title       VARCHAR(55) NOT NULL,\n",
      "                    zone        VARCHAR(105) NOT NULL,\n",
      "                    scrape_date DATE NOT NULL DEFAULT CURRENT_DATE\n",
      "                )\n",
      "            \n",
      "2023-02-26 15:18:55,616 INFO sqlalchemy.engine.Engine [generated in 0.00031s] {}\n",
      "2023-02-26 15:18:55,616 INFO sqlalchemy.engine.Engine COMMIT\n",
      "2023-02-26 15:18:55,617 INFO sqlalchemy.engine.Engine BEGIN (implicit)\n",
      "2023-02-26 15:18:55,617 INFO sqlalchemy.engine.Engine \n",
      "                CREATE INDEX IF NOT EXISTS imperfections_vin_idx \n",
      "                ON vehicle_imperfections (vin);\n",
      "            \n",
      "2023-02-26 15:18:55,617 INFO sqlalchemy.engine.Engine [generated in 0.00029s] {}\n",
      "2023-02-26 15:18:55,619 INFO sqlalchemy.engine.Engine COMMIT\n",
      "2023-02-26 15:18:55,619 INFO sqlalchemy.engine.Engine BEGIN (implicit)\n",
      "2023-02-26 15:18:55,620 INFO sqlalchemy.engine.Engine \n",
      "                CREATE TABLE IF NOT EXISTS vehicle_options (\n",
      "                    vin             VARCHAR(17) NOT NULL,\n",
      "                    name            VARCHAR(255) NOT NULL,\n",
      "                    price           INTEGER,\n",
      "                    scrape_date     DATE NOT NULL DEFAULT CURRENT_DATE,\n",
      "                    PRIMARY KEY (vin, name)\n",
      "                )\n",
      "            \n",
      "2023-02-26 15:18:55,620 INFO sqlalchemy.engine.Engine [generated in 0.00035s] {}\n",
      "2023-02-26 15:18:55,621 INFO sqlalchemy.engine.Engine COMMIT\n",
      "2023-02-26 15:18:55,621 INFO sqlalchemy.engine.Engine BEGIN (implicit)\n",
      "2023-02-26 15:18:55,622 INFO sqlalchemy.engine.Engine \n",
      "                CREATE TABLE IF NOT EXISTS vehicle_std_equipment (\n",
      "                    vin             VARCHAR(17) NOT NULL,\n",
      "                    description     TEXT NOT NULL,\n",
      "                    scrape_date     DATE NOT NULL DEFAULT CURRENT_DATE,\n",
      "                    PRIMARY KEY (vin, description)\n",
      "                )\n",
      "            \n",
      "2023-02-26 15:18:55,622 INFO sqlalchemy.engine.Engine [generated in 0.00037s] {}\n",
      "2023-02-26 15:18:55,623 INFO sqlalchemy.engine.Engine COMMIT\n"
     ]
    }
   ],
   "source": [
    "db.create_tables(eng)"
   ]
  },
  {
   "cell_type": "code",
   "execution_count": null,
   "id": "6162ce07-c189-4d14-8969-3d4d703e3df5",
   "metadata": {},
   "outputs": [],
   "source": [
    "for model in sc.models(sc.VEHICLE_QUERIES, dbug=True):\n",
    "    for listing in model:\n",
    "        db.save_listing(eng, listing)"
   ]
  },
  {
   "cell_type": "code",
   "execution_count": null,
   "id": "cf3413ed-ae52-4d3e-85e4-ac377ce7646b",
   "metadata": {},
   "outputs": [],
   "source": []
  }
 ],
 "metadata": {
  "kernelspec": {
   "display_name": "Python 3 (ipykernel)",
   "language": "python",
   "name": "python3"
  },
  "language_info": {
   "codemirror_mode": {
    "name": "ipython",
    "version": 3
   },
   "file_extension": ".py",
   "mimetype": "text/x-python",
   "name": "python",
   "nbconvert_exporter": "python",
   "pygments_lexer": "ipython3",
   "version": "3.11.0"
  }
 },
 "nbformat": 4,
 "nbformat_minor": 5
}
