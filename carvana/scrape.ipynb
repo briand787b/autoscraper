{
 "cells": [
  {
   "cell_type": "code",
   "execution_count": 1,
   "id": "6431578b-c3e7-4820-b061-6dce89c6d2b9",
   "metadata": {},
   "outputs": [],
   "source": [
    "import scrape as sc"
   ]
  },
  {
   "cell_type": "code",
   "execution_count": null,
   "id": "2a3308ff-657b-4d8a-947d-4df43d8575c5",
   "metadata": {},
   "outputs": [
    {
     "name": "stdout",
     "output_type": "stream",
     "text": [
      "[DEBUG] scraping page 1 of query chevrolet-colorado-crew-cab/4wd\n",
      "sleeping... please check the output file: data/_inspection_2548188.json\n",
      "sleeping... please check the output file: data/_inspection_2548188.json\n"
     ]
    }
   ],
   "source": [
    "import time\n",
    "import json\n",
    "listings = sc.model(sc.VEHICLE_QUERIES[0])\n",
    "for listing in listings:\n",
    "    #filename = f'data/_inspection_{listing[\"carvana_id\"]}.json'\n",
    "    #with open(filename, 'w+') as file:\n",
    "    #    json.dump(listing, file)\n",
    "    #    print(f'sleeping... please check the output file: {filename}')\n",
    "    json.dumps(listing)\n",
    "    \n",
    "    \n",
    "    time.sleep(120)"
   ]
  }
 ],
 "metadata": {
  "kernelspec": {
   "display_name": "Python 3 (ipykernel)",
   "language": "python",
   "name": "python3"
  },
  "language_info": {
   "codemirror_mode": {
    "name": "ipython",
    "version": 3
   },
   "file_extension": ".py",
   "mimetype": "text/x-python",
   "name": "python",
   "nbconvert_exporter": "python",
   "pygments_lexer": "ipython3",
   "version": "3.11.0"
  }
 },
 "nbformat": 4,
 "nbformat_minor": 5
}
