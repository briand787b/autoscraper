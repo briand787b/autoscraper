{
 "cells": [
  {
   "cell_type": "code",
   "execution_count": 1,
   "id": "6431578b-c3e7-4820-b061-6dce89c6d2b9",
   "metadata": {},
   "outputs": [],
   "source": [
    "import scrape as sc\n",
    "import time\n",
    "import json"
   ]
  },
  {
   "cell_type": "code",
   "execution_count": 2,
   "id": "2a3308ff-657b-4d8a-947d-4df43d8575c5",
   "metadata": {},
   "outputs": [
    {
     "data": {
      "text/plain": [
       "('nissan-armada/4wd', 'nissan-frontier-crew-cab/4wd')"
      ]
     },
     "execution_count": 2,
     "metadata": {},
     "output_type": "execute_result"
    }
   ],
   "source": [
    "queries = sc.VEHICLE_QUERIES[16:18]\n",
    "queries"
   ]
  },
  {
   "cell_type": "code",
   "execution_count": 3,
   "id": "c3c9e0ed-c041-4efa-aa42-120168b5d221",
   "metadata": {},
   "outputs": [
    {
     "data": {
      "text/plain": [
       "<generator object models at 0x7f505acd14e0>"
      ]
     },
     "execution_count": 3,
     "metadata": {},
     "output_type": "execute_result"
    }
   ],
   "source": [
    "models = sc.models(queries, dbug=True)\n",
    "models"
   ]
  },
  {
   "cell_type": "code",
   "execution_count": 4,
   "id": "81dbd5ab-7b43-436e-a599-274509cdaa1e",
   "metadata": {},
   "outputs": [
    {
     "name": "stdout",
     "output_type": "stream",
     "text": [
      "[DEBUG] scraping page 1 of query nissan-armada/4wd\n",
      "listing: {'id': 2493680, 'make': 'Nissan', 'model': 'Armada'}\n",
      "sleeping for 11 seconds\n",
      "listing: {'id': 2629528, 'make': 'Nissan', 'model': 'Armada'}\n",
      "sleeping for 9 seconds\n",
      "listing: {'id': 1859342, 'make': 'Nissan', 'model': 'Armada'}\n",
      "sleeping for 12 seconds\n",
      "listing: {'id': 2557596, 'make': 'Nissan', 'model': 'Armada'}\n",
      "sleeping for 7 seconds\n",
      "listing: {'id': 2641833, 'make': 'Nissan', 'model': 'Armada'}\n",
      "sleeping for 9 seconds\n",
      "listing: {'id': 2623793, 'make': 'Nissan', 'model': 'Armada'}\n",
      "sleeping for 13 seconds\n",
      "listing: {'id': 2621089, 'make': 'Nissan', 'model': 'Armada'}\n",
      "sleeping for 14 seconds\n",
      "listing: {'id': 2645470, 'make': 'Nissan', 'model': 'Armada'}\n",
      "sleeping for 8 seconds\n",
      "listing: {'id': 2413407, 'make': 'Nissan', 'model': 'Armada'}\n",
      "sleeping for 6 seconds\n",
      "listing: {'id': 2655141, 'make': 'Nissan', 'model': 'Armada'}\n",
      "sleeping for 11 seconds\n",
      "listing: {'id': 2476522, 'make': 'Nissan', 'model': 'Armada'}\n",
      "sleeping for 6 seconds\n",
      "listing: {'id': 2643048, 'make': 'Nissan', 'model': 'Armada'}\n",
      "sleeping for 5 seconds\n",
      "[DEBUG] scraping page 2 of query nissan-armada/4wd\n",
      "[DEBUG] scraping page 1 of query nissan-frontier-crew-cab/4wd\n",
      "listing: {'id': 2611960, 'make': 'Nissan', 'model': 'Frontier Crew Cab'}\n",
      "sleeping for 14 seconds\n",
      "listing: {'id': 2592262, 'make': 'Nissan', 'model': 'Frontier Crew Cab'}\n",
      "sleeping for 5 seconds\n",
      "listing: {'id': 2215980, 'make': 'Nissan', 'model': 'Frontier Crew Cab'}\n",
      "sleeping for 10 seconds\n",
      "listing: {'id': 2633176, 'make': 'Nissan', 'model': 'Frontier Crew Cab'}\n",
      "sleeping for 14 seconds\n",
      "listing: {'id': 2628393, 'make': 'Nissan', 'model': 'Frontier Crew Cab'}\n",
      "sleeping for 13 seconds\n",
      "listing: {'id': 2598098, 'make': 'Nissan', 'model': 'Frontier Crew Cab'}\n",
      "sleeping for 9 seconds\n",
      "listing: {'id': 2548458, 'make': 'Nissan', 'model': 'Frontier Crew Cab'}\n",
      "sleeping for 13 seconds\n",
      "listing: {'id': 2629608, 'make': 'Nissan', 'model': 'Frontier Crew Cab'}\n",
      "sleeping for 15 seconds\n",
      "listing: {'id': 2609470, 'make': 'Nissan', 'model': 'Frontier Crew Cab'}\n",
      "sleeping for 6 seconds\n",
      "listing: {'id': 2556252, 'make': 'Nissan', 'model': 'Frontier Crew Cab'}\n",
      "sleeping for 15 seconds\n",
      "listing: {'id': 2645461, 'make': 'Nissan', 'model': 'Frontier Crew Cab'}\n",
      "sleeping for 14 seconds\n",
      "listing: {'id': 2616488, 'make': 'Nissan', 'model': 'Frontier Crew Cab'}\n",
      "sleeping for 13 seconds\n",
      "listing: {'id': 2617593, 'make': 'Nissan', 'model': 'Frontier Crew Cab'}\n",
      "sleeping for 11 seconds\n",
      "listing: {'id': 2633527, 'make': 'Nissan', 'model': 'Frontier Crew Cab'}\n",
      "sleeping for 10 seconds\n",
      "listing: {'id': 2629648, 'make': 'Nissan', 'model': 'Frontier Crew Cab'}\n",
      "sleeping for 8 seconds\n",
      "listing: {'id': 2639104, 'make': 'Nissan', 'model': 'Frontier Crew Cab'}\n",
      "sleeping for 10 seconds\n",
      "listing: {'id': 2551278, 'make': 'Nissan', 'model': 'Frontier Crew Cab'}\n",
      "sleeping for 15 seconds\n",
      "listing: {'id': 2645462, 'make': 'Nissan', 'model': 'Frontier Crew Cab'}\n",
      "sleeping for 9 seconds\n",
      "listing: {'id': 2648287, 'make': 'Nissan', 'model': 'Frontier Crew Cab'}\n",
      "sleeping for 12 seconds\n",
      "listing: {'id': 2600878, 'make': 'Nissan', 'model': 'Frontier Crew Cab'}\n",
      "sleeping for 13 seconds\n",
      "[DEBUG] scraping page 2 of query nissan-frontier-crew-cab/4wd\n",
      "listing: {'id': 2616488, 'make': 'Nissan', 'model': 'Frontier Crew Cab'}\n",
      "sleeping for 14 seconds\n",
      "listing: {'id': 2648287, 'make': 'Nissan', 'model': 'Frontier Crew Cab'}\n",
      "sleeping for 5 seconds\n",
      "listing: {'id': 2629075, 'make': 'Nissan', 'model': 'Frontier Crew Cab'}\n",
      "sleeping for 11 seconds\n",
      "listing: {'id': 2600878, 'make': 'Nissan', 'model': 'Frontier Crew Cab'}\n",
      "sleeping for 10 seconds\n",
      "listing: {'id': 2469945, 'make': 'Nissan', 'model': 'Frontier Crew Cab'}\n",
      "sleeping for 11 seconds\n",
      "listing: {'id': 2468040, 'make': 'Nissan', 'model': 'Frontier Crew Cab'}\n",
      "sleeping for 14 seconds\n",
      "listing: {'id': 2638466, 'make': 'Nissan', 'model': 'Frontier Crew Cab'}\n",
      "sleeping for 9 seconds\n",
      "listing: {'id': 2499786, 'make': 'Nissan', 'model': 'Frontier Crew Cab'}\n",
      "sleeping for 10 seconds\n",
      "listing: {'id': 2644180, 'make': 'Nissan', 'model': 'Frontier Crew Cab'}\n",
      "sleeping for 11 seconds\n",
      "listing: {'id': 2557435, 'make': 'Nissan', 'model': 'Frontier Crew Cab'}\n",
      "sleeping for 14 seconds\n",
      "listing: {'id': 2602484, 'make': 'Nissan', 'model': 'Frontier Crew Cab'}\n",
      "sleeping for 12 seconds\n",
      "listing: {'id': 2644447, 'make': 'Nissan', 'model': 'Frontier Crew Cab'}\n",
      "sleeping for 6 seconds\n",
      "listing: {'id': 2626262, 'make': 'Nissan', 'model': 'Frontier Crew Cab'}\n",
      "sleeping for 6 seconds\n",
      "listing: {'id': 2653341, 'make': 'Nissan', 'model': 'Frontier Crew Cab'}\n",
      "sleeping for 15 seconds\n",
      "listing: {'id': 2613111, 'make': 'Nissan', 'model': 'Frontier Crew Cab'}\n",
      "sleeping for 13 seconds\n",
      "listing: {'id': 2643923, 'make': 'Nissan', 'model': 'Frontier Crew Cab'}\n",
      "sleeping for 8 seconds\n",
      "listing: {'id': 2596482, 'make': 'Nissan', 'model': 'Frontier Crew Cab'}\n",
      "sleeping for 11 seconds\n",
      "listing: {'id': 2635606, 'make': 'Nissan', 'model': 'Frontier Crew Cab'}\n",
      "sleeping for 9 seconds\n",
      "listing: {'id': 2651589, 'make': 'Nissan', 'model': 'Frontier Crew Cab'}\n",
      "sleeping for 8 seconds\n",
      "listing: {'id': 2552437, 'make': 'Nissan', 'model': 'Frontier Crew Cab'}\n",
      "sleeping for 5 seconds\n",
      "[DEBUG] scraping page 3 of query nissan-frontier-crew-cab/4wd\n",
      "listing: {'id': 2633363, 'make': 'Nissan', 'model': 'Frontier Crew Cab'}\n",
      "sleeping for 7 seconds\n",
      "listing: {'id': 2635688, 'make': 'Nissan', 'model': 'Frontier Crew Cab'}\n",
      "sleeping for 11 seconds\n",
      "listing: {'id': 2581172, 'make': 'Nissan', 'model': 'Frontier Crew Cab'}\n",
      "sleeping for 13 seconds\n",
      "listing: {'id': 2602241, 'make': 'Nissan', 'model': 'Frontier Crew Cab'}\n",
      "sleeping for 13 seconds\n",
      "listing: {'id': 2621460, 'make': 'Nissan', 'model': 'Frontier Crew Cab'}\n",
      "sleeping for 6 seconds\n",
      "listing: {'id': 2520659, 'make': 'Nissan', 'model': 'Frontier Crew Cab'}\n",
      "sleeping for 7 seconds\n",
      "listing: {'id': 2631371, 'make': 'Nissan', 'model': 'Frontier Crew Cab'}\n",
      "sleeping for 10 seconds\n",
      "listing: {'id': 2427333, 'make': 'Nissan', 'model': 'Frontier Crew Cab'}\n",
      "sleeping for 14 seconds\n",
      "listing: {'id': 2538307, 'make': 'Nissan', 'model': 'Frontier Crew Cab'}\n",
      "sleeping for 6 seconds\n",
      "listing: {'id': 2639855, 'make': 'Nissan', 'model': 'Frontier Crew Cab'}\n",
      "sleeping for 6 seconds\n",
      "[DEBUG] scraping page 4 of query nissan-frontier-crew-cab/4wd\n"
     ]
    }
   ],
   "source": [
    "listings = []\n",
    "for model in models:\n",
    "    for listing in model:\n",
    "        l = {'id': listing['carvana_id'], 'make': listing['make'], 'model': listing['model']}\n",
    "        print(f'listing: {l}')\n",
    "        listings.append(listing)"
   ]
  },
  {
   "cell_type": "code",
   "execution_count": 6,
   "id": "a948557b-1f48-46b7-af90-4ba9f6f4d7ee",
   "metadata": {},
   "outputs": [],
   "source": [
    "with open('data/jupyter_listings.json', 'w+') as file:\n",
    "    json.dump(listings, file)"
   ]
  }
 ],
 "metadata": {
  "kernelspec": {
   "display_name": "Python 3 (ipykernel)",
   "language": "python",
   "name": "python3"
  },
  "language_info": {
   "codemirror_mode": {
    "name": "ipython",
    "version": 3
   },
   "file_extension": ".py",
   "mimetype": "text/x-python",
   "name": "python",
   "nbconvert_exporter": "python",
   "pygments_lexer": "ipython3",
   "version": "3.11.0"
  }
 },
 "nbformat": 4,
 "nbformat_minor": 5
}
