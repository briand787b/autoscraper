{
 "cells": [
  {
   "cell_type": "code",
   "execution_count": 1,
   "id": "6431578b-c3e7-4820-b061-6dce89c6d2b9",
   "metadata": {},
   "outputs": [],
   "source": [
    "import scrape as sc\n",
    "import time\n",
    "import json"
   ]
  },
  {
   "cell_type": "code",
   "execution_count": 2,
   "id": "2a3308ff-657b-4d8a-947d-4df43d8575c5",
   "metadata": {},
   "outputs": [
    {
     "data": {
      "text/plain": [
       "('nissan-armada/4wd', 'nissan-frontier-crew-cab/4wd')"
      ]
     },
     "execution_count": 2,
     "metadata": {},
     "output_type": "execute_result"
    }
   ],
   "source": [
    "queries = sc.VEHICLE_QUERIES[16:18]\n",
    "queries"
   ]
  },
  {
   "cell_type": "code",
   "execution_count": 3,
   "id": "c3c9e0ed-c041-4efa-aa42-120168b5d221",
   "metadata": {},
   "outputs": [
    {
     "data": {
      "text/plain": [
       "<generator object models at 0x7f6f4433e980>"
      ]
     },
     "execution_count": 3,
     "metadata": {},
     "output_type": "execute_result"
    }
   ],
   "source": [
    "models = sc.models(queries, dbug=True)\n",
    "models"
   ]
  },
  {
   "cell_type": "code",
   "execution_count": 4,
   "id": "81dbd5ab-7b43-436e-a599-274509cdaa1e",
   "metadata": {},
   "outputs": [
    {
     "name": "stdout",
     "output_type": "stream",
     "text": [
      "[DEBUG] scraping page 1 of query nissan-armada/4wd\n",
      "listing: {'id': 2493680, 'make': 'Nissan', 'model': 'Armada'}\n",
      "sleeping for 9 seconds\n",
      "listing: {'id': 2476522, 'make': 'Nissan', 'model': 'Armada'}\n",
      "sleeping for 9 seconds\n",
      "listing: {'id': 1859342, 'make': 'Nissan', 'model': 'Armada'}\n",
      "sleeping for 9 seconds\n",
      "listing: {'id': 2629528, 'make': 'Nissan', 'model': 'Armada'}\n",
      "sleeping for 9 seconds\n",
      "listing: {'id': 2623793, 'make': 'Nissan', 'model': 'Armada'}\n",
      "sleeping for 11 seconds\n",
      "listing: {'id': 2621089, 'make': 'Nissan', 'model': 'Armada'}\n",
      "sleeping for 5 seconds\n",
      "listing: {'id': 2413407, 'make': 'Nissan', 'model': 'Armada'}\n",
      "sleeping for 10 seconds\n",
      "listing: {'id': 2655141, 'make': 'Nissan', 'model': 'Armada'}\n",
      "sleeping for 8 seconds\n",
      "listing: {'id': 2645470, 'make': 'Nissan', 'model': 'Armada'}\n",
      "sleeping for 5 seconds\n",
      "listing: {'id': 2557596, 'make': 'Nissan', 'model': 'Armada'}\n",
      "sleeping for 9 seconds\n",
      "listing: {'id': 2643048, 'make': 'Nissan', 'model': 'Armada'}\n",
      "sleeping for 8 seconds\n",
      "listing: {'id': 2422661, 'make': 'Nissan', 'model': 'Armada'}\n",
      "sleeping for 6 seconds\n",
      "[DEBUG] scraping page 2 of query nissan-armada/4wd\n",
      "[DEBUG] scraping page 1 of query nissan-frontier-crew-cab/4wd\n",
      "listing: {'id': 2611960, 'make': 'Nissan', 'model': 'Frontier Crew Cab'}\n",
      "sleeping for 12 seconds\n",
      "listing: {'id': 2592262, 'make': 'Nissan', 'model': 'Frontier Crew Cab'}\n",
      "sleeping for 11 seconds\n",
      "listing: {'id': 2633176, 'make': 'Nissan', 'model': 'Frontier Crew Cab'}\n",
      "sleeping for 7 seconds\n",
      "listing: {'id': 2628393, 'make': 'Nissan', 'model': 'Frontier Crew Cab'}\n",
      "sleeping for 14 seconds\n",
      "listing: {'id': 2609470, 'make': 'Nissan', 'model': 'Frontier Crew Cab'}\n",
      "sleeping for 12 seconds\n",
      "listing: {'id': 2548458, 'make': 'Nissan', 'model': 'Frontier Crew Cab'}\n",
      "sleeping for 5 seconds\n",
      "listing: {'id': 2629608, 'make': 'Nissan', 'model': 'Frontier Crew Cab'}\n",
      "sleeping for 11 seconds\n",
      "listing: {'id': 2598098, 'make': 'Nissan', 'model': 'Frontier Crew Cab'}\n",
      "sleeping for 11 seconds\n",
      "listing: {'id': 2551278, 'make': 'Nissan', 'model': 'Frontier Crew Cab'}\n",
      "sleeping for 10 seconds\n",
      "listing: {'id': 2556252, 'make': 'Nissan', 'model': 'Frontier Crew Cab'}\n",
      "sleeping for 10 seconds\n",
      "listing: {'id': 2645461, 'make': 'Nissan', 'model': 'Frontier Crew Cab'}\n",
      "sleeping for 6 seconds\n",
      "listing: {'id': 2468040, 'make': 'Nissan', 'model': 'Frontier Crew Cab'}\n",
      "sleeping for 7 seconds\n",
      "listing: {'id': 2639104, 'make': 'Nissan', 'model': 'Frontier Crew Cab'}\n",
      "sleeping for 12 seconds\n",
      "listing: {'id': 2616488, 'make': 'Nissan', 'model': 'Frontier Crew Cab'}\n",
      "sleeping for 9 seconds\n",
      "listing: {'id': 2617593, 'make': 'Nissan', 'model': 'Frontier Crew Cab'}\n",
      "sleeping for 12 seconds\n",
      "listing: {'id': 2633527, 'make': 'Nissan', 'model': 'Frontier Crew Cab'}\n",
      "sleeping for 15 seconds\n",
      "listing: {'id': 2629648, 'make': 'Nissan', 'model': 'Frontier Crew Cab'}\n",
      "sleeping for 14 seconds\n",
      "listing: {'id': 2644301, 'make': 'Nissan', 'model': 'Frontier Crew Cab'}\n",
      "sleeping for 5 seconds\n",
      "listing: {'id': 2638466, 'make': 'Nissan', 'model': 'Frontier Crew Cab'}\n",
      "sleeping for 12 seconds\n",
      "listing: {'id': 2648287, 'make': 'Nissan', 'model': 'Frontier Crew Cab'}\n",
      "sleeping for 6 seconds\n",
      "[DEBUG] scraping page 2 of query nissan-frontier-crew-cab/4wd\n",
      "listing: {'id': 2629648, 'make': 'Nissan', 'model': 'Frontier Crew Cab'}\n",
      "sleeping for 8 seconds\n",
      "listing: {'id': 2616488, 'make': 'Nissan', 'model': 'Frontier Crew Cab'}\n",
      "sleeping for 6 seconds\n",
      "listing: {'id': 2469945, 'make': 'Nissan', 'model': 'Frontier Crew Cab'}\n",
      "sleeping for 12 seconds\n",
      "listing: {'id': 2648287, 'make': 'Nissan', 'model': 'Frontier Crew Cab'}\n",
      "sleeping for 12 seconds\n",
      "listing: {'id': 2629075, 'make': 'Nissan', 'model': 'Frontier Crew Cab'}\n",
      "sleeping for 7 seconds\n",
      "listing: {'id': 2600878, 'make': 'Nissan', 'model': 'Frontier Crew Cab'}\n",
      "sleeping for 8 seconds\n",
      "listing: {'id': 2644180, 'make': 'Nissan', 'model': 'Frontier Crew Cab'}\n",
      "sleeping for 5 seconds\n",
      "listing: {'id': 2645462, 'make': 'Nissan', 'model': 'Frontier Crew Cab'}\n",
      "sleeping for 5 seconds\n",
      "listing: {'id': 2557435, 'make': 'Nissan', 'model': 'Frontier Crew Cab'}\n",
      "sleeping for 12 seconds\n",
      "listing: {'id': 2602484, 'make': 'Nissan', 'model': 'Frontier Crew Cab'}\n",
      "sleeping for 13 seconds\n",
      "listing: {'id': 2644447, 'make': 'Nissan', 'model': 'Frontier Crew Cab'}\n",
      "sleeping for 8 seconds\n",
      "listing: {'id': 2626262, 'make': 'Nissan', 'model': 'Frontier Crew Cab'}\n",
      "sleeping for 15 seconds\n",
      "listing: {'id': 2653341, 'make': 'Nissan', 'model': 'Frontier Crew Cab'}\n",
      "sleeping for 7 seconds\n",
      "listing: {'id': 2613111, 'make': 'Nissan', 'model': 'Frontier Crew Cab'}\n",
      "sleeping for 11 seconds\n",
      "listing: {'id': 2643923, 'make': 'Nissan', 'model': 'Frontier Crew Cab'}\n",
      "sleeping for 7 seconds\n",
      "failed to build listing with id \"<built-in function id>\": 'fuelDescription'\n"
     ]
    },
    {
     "ename": "KeyError",
     "evalue": "'fuelDescription'",
     "output_type": "error",
     "traceback": [
      "\u001b[0;31m---------------------------------------------------------------------------\u001b[0m",
      "\u001b[0;31mKeyError\u001b[0m                                  Traceback (most recent call last)",
      "Cell \u001b[0;32mIn[4], line 2\u001b[0m\n\u001b[1;32m      1\u001b[0m \u001b[38;5;28;01mfor\u001b[39;00m model_listings \u001b[38;5;129;01min\u001b[39;00m models:\n\u001b[0;32m----> 2\u001b[0m     \u001b[38;5;28;01mfor\u001b[39;00m listing \u001b[38;5;129;01min\u001b[39;00m model_listings:\n\u001b[1;32m      3\u001b[0m         l \u001b[38;5;241m=\u001b[39m {\u001b[38;5;124m'\u001b[39m\u001b[38;5;124mid\u001b[39m\u001b[38;5;124m'\u001b[39m: listing[\u001b[38;5;124m'\u001b[39m\u001b[38;5;124mcarvana_id\u001b[39m\u001b[38;5;124m'\u001b[39m], \u001b[38;5;124m'\u001b[39m\u001b[38;5;124mmake\u001b[39m\u001b[38;5;124m'\u001b[39m: listing[\u001b[38;5;124m'\u001b[39m\u001b[38;5;124mmake\u001b[39m\u001b[38;5;124m'\u001b[39m], \u001b[38;5;124m'\u001b[39m\u001b[38;5;124mmodel\u001b[39m\u001b[38;5;124m'\u001b[39m: listing[\u001b[38;5;124m'\u001b[39m\u001b[38;5;124mmodel\u001b[39m\u001b[38;5;124m'\u001b[39m]}\n\u001b[1;32m      4\u001b[0m         \u001b[38;5;28mprint\u001b[39m(\u001b[38;5;124mf\u001b[39m\u001b[38;5;124m'\u001b[39m\u001b[38;5;124mlisting: \u001b[39m\u001b[38;5;132;01m{\u001b[39;00ml\u001b[38;5;132;01m}\u001b[39;00m\u001b[38;5;124m'\u001b[39m)\n",
      "File \u001b[0;32m~/py/autoscraper/carvana/scrape.py:76\u001b[0m, in \u001b[0;36mmodel\u001b[0;34m(query, dbug)\u001b[0m\n\u001b[1;32m     73\u001b[0m \u001b[38;5;28;01mif\u001b[39;00m \u001b[38;5;28mid\u001b[39m \u001b[38;5;129;01mis\u001b[39;00m \u001b[38;5;28;01mNone\u001b[39;00m:\n\u001b[1;32m     74\u001b[0m     \u001b[38;5;28;01mcontinue\u001b[39;00m\n\u001b[0;32m---> 76\u001b[0m \u001b[38;5;28;01myield\u001b[39;00m \u001b[43mextract_inventory_item\u001b[49m\u001b[43m(\u001b[49m\u001b[38;5;28;43mid\u001b[39;49m\u001b[43m,\u001b[49m\u001b[43m \u001b[49m\u001b[43mdbug\u001b[49m\u001b[38;5;241;43m=\u001b[39;49m\u001b[43mdbug\u001b[49m\u001b[43m)\u001b[49m\n\u001b[1;32m     78\u001b[0m \u001b[38;5;66;03m# sleep random time to mimic human user\u001b[39;00m\n\u001b[1;32m     79\u001b[0m sleep_dur \u001b[38;5;241m=\u001b[39m random\u001b[38;5;241m.\u001b[39mrandint(\u001b[38;5;241m5\u001b[39m, \u001b[38;5;241m15\u001b[39m)\n",
      "File \u001b[0;32m~/py/autoscraper/carvana/scrape.py:105\u001b[0m, in \u001b[0;36mextract_inventory_item\u001b[0;34m(id, dbug)\u001b[0m\n\u001b[1;32m    103\u001b[0m vehicle_json \u001b[38;5;241m=\u001b[39m json\u001b[38;5;241m.\u001b[39mloads(vehicle_text)\n\u001b[1;32m    104\u001b[0m vehicle \u001b[38;5;241m=\u001b[39m vehicle_json[\u001b[38;5;124m'\u001b[39m\u001b[38;5;124mprops\u001b[39m\u001b[38;5;124m'\u001b[39m][\u001b[38;5;124m'\u001b[39m\u001b[38;5;124mpageProps\u001b[39m\u001b[38;5;124m'\u001b[39m][\u001b[38;5;124m'\u001b[39m\u001b[38;5;124minitialState\u001b[39m\u001b[38;5;124m'\u001b[39m][\u001b[38;5;124m'\u001b[39m\u001b[38;5;124mvehicle\u001b[39m\u001b[38;5;124m'\u001b[39m][\u001b[38;5;124m'\u001b[39m\u001b[38;5;124mdetails\u001b[39m\u001b[38;5;124m'\u001b[39m]\n\u001b[0;32m--> 105\u001b[0m \u001b[38;5;28;01mreturn\u001b[39;00m \u001b[43mbuild_listing\u001b[49m\u001b[43m(\u001b[49m\u001b[43mvehicle\u001b[49m\u001b[43m,\u001b[49m\u001b[43m \u001b[49m\u001b[43mdbug\u001b[49m\u001b[38;5;241;43m=\u001b[39;49m\u001b[43mdbug\u001b[49m\u001b[43m)\u001b[49m\n",
      "File \u001b[0;32m~/py/autoscraper/carvana/scrape.py:157\u001b[0m, in \u001b[0;36mbuild_listing\u001b[0;34m(vehicle, dbug)\u001b[0m\n\u001b[1;32m    155\u001b[0m \u001b[38;5;28;01mexcept\u001b[39;00m \u001b[38;5;167;01mException\u001b[39;00m \u001b[38;5;28;01mas\u001b[39;00m e:\n\u001b[1;32m    156\u001b[0m     \u001b[38;5;28mprint\u001b[39m(\u001b[38;5;124mf\u001b[39m\u001b[38;5;124m'\u001b[39m\u001b[38;5;124mfailed to build listing with id \u001b[39m\u001b[38;5;124m\"\u001b[39m\u001b[38;5;132;01m{\u001b[39;00m\u001b[38;5;28mid\u001b[39m\u001b[38;5;132;01m}\u001b[39;00m\u001b[38;5;124m\"\u001b[39m\u001b[38;5;124m: \u001b[39m\u001b[38;5;132;01m{\u001b[39;00me\u001b[38;5;132;01m}\u001b[39;00m\u001b[38;5;124m'\u001b[39m)\n\u001b[0;32m--> 157\u001b[0m     \u001b[38;5;28;01mraise\u001b[39;00m e\n\u001b[1;32m    159\u001b[0m \u001b[38;5;28;01mreturn\u001b[39;00m listing\n",
      "File \u001b[0;32m~/py/autoscraper/carvana/scrape.py:122\u001b[0m, in \u001b[0;36mbuild_listing\u001b[0;34m(vehicle, dbug)\u001b[0m\n\u001b[1;32m    111\u001b[0m         json\u001b[38;5;241m.\u001b[39mdump(vehicle, file)\n\u001b[1;32m    113\u001b[0m \u001b[38;5;28;01mtry\u001b[39;00m:\n\u001b[1;32m    114\u001b[0m     listing \u001b[38;5;241m=\u001b[39m {\n\u001b[1;32m    115\u001b[0m         \u001b[38;5;124m'\u001b[39m\u001b[38;5;124mbody_type\u001b[39m\u001b[38;5;124m'\u001b[39m: vehicle[\u001b[38;5;124m'\u001b[39m\u001b[38;5;124mbodyType\u001b[39m\u001b[38;5;124m'\u001b[39m],\n\u001b[1;32m    116\u001b[0m         \u001b[38;5;124m'\u001b[39m\u001b[38;5;124mcarvana_id\u001b[39m\u001b[38;5;124m'\u001b[39m: vehicle[\u001b[38;5;124m'\u001b[39m\u001b[38;5;124mvehicleId\u001b[39m\u001b[38;5;124m'\u001b[39m],\n\u001b[1;32m    117\u001b[0m         \u001b[38;5;124m'\u001b[39m\u001b[38;5;124mcity\u001b[39m\u001b[38;5;124m'\u001b[39m: vehicle[\u001b[38;5;124m'\u001b[39m\u001b[38;5;124mlocation\u001b[39m\u001b[38;5;124m'\u001b[39m][\u001b[38;5;124m'\u001b[39m\u001b[38;5;124mcity\u001b[39m\u001b[38;5;124m'\u001b[39m],\n\u001b[1;32m    118\u001b[0m         \u001b[38;5;124m'\u001b[39m\u001b[38;5;124mdrive_type\u001b[39m\u001b[38;5;124m'\u001b[39m: vehicle[\u001b[38;5;124m'\u001b[39m\u001b[38;5;124mdrivetrainDescription\u001b[39m\u001b[38;5;124m'\u001b[39m],\n\u001b[1;32m    119\u001b[0m         \u001b[38;5;124m'\u001b[39m\u001b[38;5;124mengine\u001b[39m\u001b[38;5;124m'\u001b[39m: vehicle[\u001b[38;5;124m'\u001b[39m\u001b[38;5;124mengineDescription\u001b[39m\u001b[38;5;124m'\u001b[39m],\n\u001b[1;32m    120\u001b[0m         \u001b[38;5;124m'\u001b[39m\u001b[38;5;124mexterior_color\u001b[39m\u001b[38;5;124m'\u001b[39m: vehicle[\u001b[38;5;124m'\u001b[39m\u001b[38;5;124mexteriorColor\u001b[39m\u001b[38;5;124m'\u001b[39m],\n\u001b[1;32m    121\u001b[0m         \u001b[38;5;124m'\u001b[39m\u001b[38;5;124mfeatures\u001b[39m\u001b[38;5;124m'\u001b[39m: [f[\u001b[38;5;124m'\u001b[39m\u001b[38;5;124mdisplayName\u001b[39m\u001b[38;5;124m'\u001b[39m] \u001b[38;5;28;01mfor\u001b[39;00m kf \u001b[38;5;129;01min\u001b[39;00m vehicle[\u001b[38;5;124m'\u001b[39m\u001b[38;5;124mkbbFeatures\u001b[39m\u001b[38;5;124m'\u001b[39m] \u001b[38;5;28;01mfor\u001b[39;00m f \u001b[38;5;129;01min\u001b[39;00m kf[\u001b[38;5;124m'\u001b[39m\u001b[38;5;124mfeatures\u001b[39m\u001b[38;5;124m'\u001b[39m]],\n\u001b[0;32m--> 122\u001b[0m         \u001b[38;5;124m'\u001b[39m\u001b[38;5;124mfuel\u001b[39m\u001b[38;5;124m'\u001b[39m: \u001b[43mvehicle\u001b[49m\u001b[43m[\u001b[49m\u001b[38;5;124;43m'\u001b[39;49m\u001b[38;5;124;43mfuelDescription\u001b[39;49m\u001b[38;5;124;43m'\u001b[39;49m\u001b[43m]\u001b[49m,\n\u001b[1;32m    123\u001b[0m         \u001b[38;5;124m'\u001b[39m\u001b[38;5;124mimperfections\u001b[39m\u001b[38;5;124m'\u001b[39m: [\n\u001b[1;32m    124\u001b[0m             {\n\u001b[1;32m    125\u001b[0m                 \u001b[38;5;124m'\u001b[39m\u001b[38;5;124mdescription\u001b[39m\u001b[38;5;124m'\u001b[39m: i[\u001b[38;5;124m'\u001b[39m\u001b[38;5;124mdescription\u001b[39m\u001b[38;5;124m'\u001b[39m],\n\u001b[1;32m    126\u001b[0m                 \u001b[38;5;124m'\u001b[39m\u001b[38;5;124mlocation\u001b[39m\u001b[38;5;124m'\u001b[39m: i[\u001b[38;5;124m'\u001b[39m\u001b[38;5;124mlocation\u001b[39m\u001b[38;5;124m'\u001b[39m],\n\u001b[1;32m    127\u001b[0m                 \u001b[38;5;124m'\u001b[39m\u001b[38;5;124mtitle\u001b[39m\u001b[38;5;124m'\u001b[39m: i[\u001b[38;5;124m'\u001b[39m\u001b[38;5;124mtitle\u001b[39m\u001b[38;5;124m'\u001b[39m],\n\u001b[1;32m    128\u001b[0m                 \u001b[38;5;124m'\u001b[39m\u001b[38;5;124mzone\u001b[39m\u001b[38;5;124m'\u001b[39m: i[\u001b[38;5;124m'\u001b[39m\u001b[38;5;124mzoneDescription\u001b[39m\u001b[38;5;124m'\u001b[39m],\n\u001b[1;32m    129\u001b[0m             } \u001b[38;5;28;01mfor\u001b[39;00m i \u001b[38;5;129;01min\u001b[39;00m vehicle\u001b[38;5;241m.\u001b[39mget(\u001b[38;5;124m'\u001b[39m\u001b[38;5;124mvexVdpImageData\u001b[39m\u001b[38;5;124m'\u001b[39m, {})\u001b[38;5;241m.\u001b[39mget(\u001b[38;5;124m'\u001b[39m\u001b[38;5;124mimperfections\u001b[39m\u001b[38;5;124m'\u001b[39m, [])\n\u001b[1;32m    130\u001b[0m         ],\n\u001b[1;32m    131\u001b[0m         \u001b[38;5;124m'\u001b[39m\u001b[38;5;124minterior_color\u001b[39m\u001b[38;5;124m'\u001b[39m: vehicle[\u001b[38;5;124m'\u001b[39m\u001b[38;5;124minteriorColor\u001b[39m\u001b[38;5;124m'\u001b[39m],\n\u001b[1;32m    132\u001b[0m         \u001b[38;5;124m'\u001b[39m\u001b[38;5;124mkbb_value\u001b[39m\u001b[38;5;124m'\u001b[39m: vehicle[\u001b[38;5;124m'\u001b[39m\u001b[38;5;124mkbbValue\u001b[39m\u001b[38;5;124m'\u001b[39m],\n\u001b[1;32m    133\u001b[0m         \u001b[38;5;124m'\u001b[39m\u001b[38;5;124mmake\u001b[39m\u001b[38;5;124m'\u001b[39m: vehicle[\u001b[38;5;124m'\u001b[39m\u001b[38;5;124mmake\u001b[39m\u001b[38;5;124m'\u001b[39m],\n\u001b[1;32m    134\u001b[0m         \u001b[38;5;124m'\u001b[39m\u001b[38;5;124mmfg_basic_warranty_miles\u001b[39m\u001b[38;5;124m'\u001b[39m: vehicle[\u001b[38;5;124m\"\u001b[39m\u001b[38;5;124mmanufacturerBasicWarrantyMiles\u001b[39m\u001b[38;5;124m\"\u001b[39m],\n\u001b[1;32m    135\u001b[0m         \u001b[38;5;124m'\u001b[39m\u001b[38;5;124mmg_basic_warranty_months\u001b[39m\u001b[38;5;124m'\u001b[39m: vehicle[\u001b[38;5;124m\"\u001b[39m\u001b[38;5;124mmanufacturerBasicWarrantyMonths\u001b[39m\u001b[38;5;124m\"\u001b[39m],\n\u001b[1;32m    136\u001b[0m         \u001b[38;5;124m'\u001b[39m\u001b[38;5;124mmfg_drivetrain_warranty_miles\u001b[39m\u001b[38;5;124m'\u001b[39m: vehicle[\u001b[38;5;124m\"\u001b[39m\u001b[38;5;124mmanufacturerDriveTrainWarrantyMiles\u001b[39m\u001b[38;5;124m\"\u001b[39m],\n\u001b[1;32m    137\u001b[0m         \u001b[38;5;124m'\u001b[39m\u001b[38;5;124mmfg_drivetrain_warranty_months\u001b[39m\u001b[38;5;124m'\u001b[39m: vehicle[\u001b[38;5;124m\"\u001b[39m\u001b[38;5;124mmanufacturerDriveTrainWarrantyMonths\u001b[39m\u001b[38;5;124m\"\u001b[39m],\n\u001b[1;32m    138\u001b[0m         \u001b[38;5;124m'\u001b[39m\u001b[38;5;124mmileage\u001b[39m\u001b[38;5;124m'\u001b[39m: vehicle[\u001b[38;5;124m'\u001b[39m\u001b[38;5;124mmileage\u001b[39m\u001b[38;5;124m'\u001b[39m],\n\u001b[1;32m    139\u001b[0m         \u001b[38;5;124m'\u001b[39m\u001b[38;5;124mmodel\u001b[39m\u001b[38;5;124m'\u001b[39m: vehicle[\u001b[38;5;124m'\u001b[39m\u001b[38;5;124mmodel\u001b[39m\u001b[38;5;124m'\u001b[39m],\n\u001b[1;32m    140\u001b[0m         \u001b[38;5;124m'\u001b[39m\u001b[38;5;124mnum_keys\u001b[39m\u001b[38;5;124m'\u001b[39m: vehicle[\u001b[38;5;124m'\u001b[39m\u001b[38;5;124mnumberOfKeys\u001b[39m\u001b[38;5;124m'\u001b[39m],\n\u001b[1;32m    141\u001b[0m         \u001b[38;5;124m'\u001b[39m\u001b[38;5;124moptions\u001b[39m\u001b[38;5;124m'\u001b[39m: vehicle\u001b[38;5;241m.\u001b[39mget(\u001b[38;5;124m'\u001b[39m\u001b[38;5;124minstalledOptions\u001b[39m\u001b[38;5;124m'\u001b[39m, []),\n\u001b[1;32m    142\u001b[0m         \u001b[38;5;124m'\u001b[39m\u001b[38;5;124mprice\u001b[39m\u001b[38;5;124m'\u001b[39m: vehicle[\u001b[38;5;124m'\u001b[39m\u001b[38;5;124mprice\u001b[39m\u001b[38;5;124m'\u001b[39m],\n\u001b[1;32m    143\u001b[0m         \u001b[38;5;124m'\u001b[39m\u001b[38;5;124mremaining_warranty_miles\u001b[39m\u001b[38;5;124m'\u001b[39m: vehicle[\u001b[38;5;124m\"\u001b[39m\u001b[38;5;124mremainingWarrantyMiles\u001b[39m\u001b[38;5;124m\"\u001b[39m],\n\u001b[1;32m    144\u001b[0m         \u001b[38;5;124m'\u001b[39m\u001b[38;5;124mremaining_warranty_months\u001b[39m\u001b[38;5;124m'\u001b[39m: vehicle[\u001b[38;5;124m\"\u001b[39m\u001b[38;5;124mremainingWarrantyMonths\u001b[39m\u001b[38;5;124m\"\u001b[39m],\n\u001b[1;32m    145\u001b[0m         \u001b[38;5;124m'\u001b[39m\u001b[38;5;124mremaining_drivetrain_warranty_months\u001b[39m\u001b[38;5;124m'\u001b[39m: vehicle[\u001b[38;5;124m\"\u001b[39m\u001b[38;5;124mremainingDriveTrainWarrantyMiles\u001b[39m\u001b[38;5;124m\"\u001b[39m],\n\u001b[1;32m    146\u001b[0m         \u001b[38;5;124m'\u001b[39m\u001b[38;5;124mremaining_drivetrain_warranty_miles\u001b[39m\u001b[38;5;124m'\u001b[39m: vehicle[\u001b[38;5;124m\"\u001b[39m\u001b[38;5;124mremainingDriveTrainWarrantyMonths\u001b[39m\u001b[38;5;124m\"\u001b[39m],\n\u001b[1;32m    147\u001b[0m         \u001b[38;5;124m'\u001b[39m\u001b[38;5;124mstate\u001b[39m\u001b[38;5;124m'\u001b[39m: vehicle[\u001b[38;5;124m'\u001b[39m\u001b[38;5;124mlocation\u001b[39m\u001b[38;5;124m'\u001b[39m][\u001b[38;5;124m'\u001b[39m\u001b[38;5;124mstateAbbreviation\u001b[39m\u001b[38;5;124m'\u001b[39m],\n\u001b[1;32m    148\u001b[0m         \u001b[38;5;124m'\u001b[39m\u001b[38;5;124mstd_equipment\u001b[39m\u001b[38;5;124m'\u001b[39m: vehicle\u001b[38;5;241m.\u001b[39mget(\u001b[38;5;124m'\u001b[39m\u001b[38;5;124mstandardEquipment\u001b[39m\u001b[38;5;124m'\u001b[39m, []),\n\u001b[1;32m    149\u001b[0m         \u001b[38;5;124m'\u001b[39m\u001b[38;5;124mtransmission\u001b[39m\u001b[38;5;124m'\u001b[39m: vehicle[\u001b[38;5;124m'\u001b[39m\u001b[38;5;124mtransmission\u001b[39m\u001b[38;5;124m'\u001b[39m],\n\u001b[1;32m    150\u001b[0m         \u001b[38;5;124m'\u001b[39m\u001b[38;5;124mtrim\u001b[39m\u001b[38;5;124m'\u001b[39m: vehicle[\u001b[38;5;124m'\u001b[39m\u001b[38;5;124mtrim\u001b[39m\u001b[38;5;124m'\u001b[39m],\n\u001b[1;32m    151\u001b[0m         \u001b[38;5;124m'\u001b[39m\u001b[38;5;124mvin\u001b[39m\u001b[38;5;124m'\u001b[39m: vehicle[\u001b[38;5;124m'\u001b[39m\u001b[38;5;124mvin\u001b[39m\u001b[38;5;124m'\u001b[39m],\n\u001b[1;32m    152\u001b[0m         \u001b[38;5;124m'\u001b[39m\u001b[38;5;124myear\u001b[39m\u001b[38;5;124m'\u001b[39m: vehicle[\u001b[38;5;124m'\u001b[39m\u001b[38;5;124myear\u001b[39m\u001b[38;5;124m'\u001b[39m],\n\u001b[1;32m    153\u001b[0m         \u001b[38;5;124m'\u001b[39m\u001b[38;5;124mzip\u001b[39m\u001b[38;5;124m'\u001b[39m: vehicle[\u001b[38;5;124m'\u001b[39m\u001b[38;5;124mlocation\u001b[39m\u001b[38;5;124m'\u001b[39m][\u001b[38;5;124m'\u001b[39m\u001b[38;5;124mzip5\u001b[39m\u001b[38;5;124m'\u001b[39m],\n\u001b[1;32m    154\u001b[0m     }\n\u001b[1;32m    155\u001b[0m \u001b[38;5;28;01mexcept\u001b[39;00m \u001b[38;5;167;01mException\u001b[39;00m \u001b[38;5;28;01mas\u001b[39;00m e:\n\u001b[1;32m    156\u001b[0m     \u001b[38;5;28mprint\u001b[39m(\u001b[38;5;124mf\u001b[39m\u001b[38;5;124m'\u001b[39m\u001b[38;5;124mfailed to build listing with id \u001b[39m\u001b[38;5;124m\"\u001b[39m\u001b[38;5;132;01m{\u001b[39;00m\u001b[38;5;28mid\u001b[39m\u001b[38;5;132;01m}\u001b[39;00m\u001b[38;5;124m\"\u001b[39m\u001b[38;5;124m: \u001b[39m\u001b[38;5;132;01m{\u001b[39;00me\u001b[38;5;132;01m}\u001b[39;00m\u001b[38;5;124m'\u001b[39m)\n",
      "\u001b[0;31mKeyError\u001b[0m: 'fuelDescription'"
     ]
    }
   ],
   "source": [
    "for model_listings in models:\n",
    "    for listing in model_listings:\n",
    "        l = {'id': listing['carvana_id'], 'make': listing['make'], 'model': listing['model']}\n",
    "        print(f'listing: {l}')"
   ]
  }
 ],
 "metadata": {
  "kernelspec": {
   "display_name": "Python 3 (ipykernel)",
   "language": "python",
   "name": "python3"
  },
  "language_info": {
   "codemirror_mode": {
    "name": "ipython",
    "version": 3
   },
   "file_extension": ".py",
   "mimetype": "text/x-python",
   "name": "python",
   "nbconvert_exporter": "python",
   "pygments_lexer": "ipython3",
   "version": "3.11.0"
  }
 },
 "nbformat": 4,
 "nbformat_minor": 5
}
