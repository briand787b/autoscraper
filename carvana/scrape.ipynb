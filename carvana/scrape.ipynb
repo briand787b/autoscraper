{
 "cells": [
  {
   "cell_type": "code",
   "execution_count": 1,
   "id": "6431578b-c3e7-4820-b061-6dce89c6d2b9",
   "metadata": {},
   "outputs": [],
   "source": [
    "import scrape as sc\n",
    "import time\n",
    "import json"
   ]
  },
  {
   "cell_type": "code",
   "execution_count": 3,
   "id": "2a3308ff-657b-4d8a-947d-4df43d8575c5",
   "metadata": {},
   "outputs": [
    {
     "data": {
      "text/plain": [
       "('nissan-titan-crew-cab/4wd',)"
      ]
     },
     "execution_count": 3,
     "metadata": {},
     "output_type": "execute_result"
    }
   ],
   "source": [
    "# select query with low vehicle count\n",
    "queries = sc.VEHICLE_QUERIES[18:19]\n",
    "queries"
   ]
  },
  {
   "cell_type": "code",
   "execution_count": 4,
   "id": "c3c9e0ed-c041-4efa-aa42-120168b5d221",
   "metadata": {},
   "outputs": [
    {
     "data": {
      "text/plain": [
       "<generator object models at 0x7ff2c41ed5d0>"
      ]
     },
     "execution_count": 4,
     "metadata": {},
     "output_type": "execute_result"
    }
   ],
   "source": [
    "models = sc.models(queries, dbug=True)\n",
    "models"
   ]
  },
  {
   "cell_type": "code",
   "execution_count": 5,
   "id": "81dbd5ab-7b43-436e-a599-274509cdaa1e",
   "metadata": {},
   "outputs": [
    {
     "name": "stdout",
     "output_type": "stream",
     "text": [
      "[DEBUG] scraping page 1 of query nissan-titan-crew-cab/4wd\n",
      "listing: {'id': 2606334, 'make': 'Nissan', 'model': 'Titan Crew Cab'}\n",
      "sleeping for 6 seconds\n",
      "listing: {'id': 2622246, 'make': 'Nissan', 'model': 'Titan Crew Cab'}\n",
      "sleeping for 5 seconds\n",
      "listing: {'id': 2634828, 'make': 'Nissan', 'model': 'Titan Crew Cab'}\n",
      "sleeping for 6 seconds\n",
      "listing: {'id': 2656838, 'make': 'Nissan', 'model': 'Titan Crew Cab'}\n",
      "sleeping for 11 seconds\n",
      "listing: {'id': 2631629, 'make': 'Nissan', 'model': 'Titan Crew Cab'}\n",
      "sleeping for 14 seconds\n",
      "listing: {'id': 2577335, 'make': 'Nissan', 'model': 'Titan Crew Cab'}\n",
      "sleeping for 5 seconds\n",
      "listing: {'id': 2646506, 'make': 'Nissan', 'model': 'Titan Crew Cab'}\n",
      "sleeping for 7 seconds\n",
      "listing: {'id': 2625485, 'make': 'Nissan', 'model': 'Titan Crew Cab'}\n",
      "sleeping for 9 seconds\n",
      "listing: {'id': 2656775, 'make': 'Nissan', 'model': 'Titan Crew Cab'}\n",
      "sleeping for 11 seconds\n",
      "listing: {'id': 2592741, 'make': 'Nissan', 'model': 'Titan Crew Cab'}\n",
      "sleeping for 8 seconds\n",
      "listing: {'id': 2651622, 'make': 'Nissan', 'model': 'Titan Crew Cab'}\n",
      "sleeping for 8 seconds\n",
      "listing: {'id': 2656788, 'make': 'Nissan', 'model': 'Titan Crew Cab'}\n",
      "sleeping for 13 seconds\n",
      "listing: {'id': 2660710, 'make': 'Nissan', 'model': 'Titan Crew Cab'}\n",
      "sleeping for 9 seconds\n",
      "listing: {'id': 2640612, 'make': 'Nissan', 'model': 'Titan Crew Cab'}\n",
      "sleeping for 6 seconds\n",
      "listing: {'id': 2649923, 'make': 'Nissan', 'model': 'Titan Crew Cab'}\n",
      "sleeping for 11 seconds\n",
      "listing: {'id': 2522158, 'make': 'Nissan', 'model': 'Titan Crew Cab'}\n",
      "sleeping for 5 seconds\n",
      "listing: {'id': 2643763, 'make': 'Nissan', 'model': 'Titan Crew Cab'}\n",
      "sleeping for 8 seconds\n",
      "listing: {'id': 2639560, 'make': 'Nissan', 'model': 'Titan Crew Cab'}\n",
      "sleeping for 14 seconds\n",
      "listing: {'id': 2635387, 'make': 'Nissan', 'model': 'Titan Crew Cab'}\n",
      "sleeping for 15 seconds\n",
      "listing: {'id': 2622943, 'make': 'Nissan', 'model': 'Titan Crew Cab'}\n",
      "sleeping for 6 seconds\n",
      "[DEBUG] scraping page 2 of query nissan-titan-crew-cab/4wd\n"
     ]
    }
   ],
   "source": [
    "listings = []\n",
    "for model in models:\n",
    "    for listing in model:\n",
    "        l = {'id': listing['carvana_id'], 'make': listing['make'], 'model': listing['model']}\n",
    "        print(f'listing: {l}')\n",
    "        listings.append(listing)"
   ]
  },
  {
   "cell_type": "code",
   "execution_count": 6,
   "id": "a948557b-1f48-46b7-af90-4ba9f6f4d7ee",
   "metadata": {},
   "outputs": [],
   "source": [
    "with open('data/jupyter_listings.json', 'w+') as file:\n",
    "    json.dump(listings, file)"
   ]
  }
 ],
 "metadata": {
  "kernelspec": {
   "display_name": "Python 3 (ipykernel)",
   "language": "python",
   "name": "python3"
  },
  "language_info": {
   "codemirror_mode": {
    "name": "ipython",
    "version": 3
   },
   "file_extension": ".py",
   "mimetype": "text/x-python",
   "name": "python",
   "nbconvert_exporter": "python",
   "pygments_lexer": "ipython3",
   "version": "3.11.0"
  }
 },
 "nbformat": 4,
 "nbformat_minor": 5
}
