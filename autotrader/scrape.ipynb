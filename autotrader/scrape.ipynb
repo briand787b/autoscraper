{
 "cells": [
  {
   "cell_type": "code",
   "execution_count": null,
   "id": "32257173-7ece-4706-a7ac-aa17a80cc65b",
   "metadata": {},
   "outputs": [],
   "source": [
    "import scrape"
   ]
  },
  {
   "cell_type": "code",
   "execution_count": null,
   "id": "6510e0a3-992b-4a11-8c46-de0f60334e29",
   "metadata": {},
   "outputs": [],
   "source": [
    "listings = scrape.sequoia(scrape.REGION_ATLANTA)"
   ]
  },
  {
   "cell_type": "code",
   "execution_count": null,
   "id": "7c690a01-57ce-4052-b16e-3a10cb3ac00b",
   "metadata": {},
   "outputs": [],
   "source": [
    "listings"
   ]
  }
 ],
 "metadata": {
  "kernelspec": {
   "display_name": "Python 3 (ipykernel)",
   "language": "python",
   "name": "python3"
  },
  "language_info": {
   "codemirror_mode": {
    "name": "ipython",
    "version": 3
   },
   "file_extension": ".py",
   "mimetype": "text/x-python",
   "name": "python",
   "nbconvert_exporter": "python",
   "pygments_lexer": "ipython3",
   "version": "3.11.0"
  }
 },
 "nbformat": 4,
 "nbformat_minor": 5
}
