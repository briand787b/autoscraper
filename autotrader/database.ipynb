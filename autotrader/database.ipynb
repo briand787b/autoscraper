{
 "cells": [
  {
   "cell_type": "code",
   "execution_count": 1,
   "id": "f1330b06-1b59-4b0a-bfde-643b8a6b8d7f",
   "metadata": {},
   "outputs": [],
   "source": [
    "import database"
   ]
  },
  {
   "cell_type": "code",
   "execution_count": 2,
   "id": "785db14b-2422-49c7-a527-b2fbe79fd571",
   "metadata": {},
   "outputs": [
    {
     "name": "stdin",
     "output_type": "stream",
     "text": [
      "please provide local postgres database password autotrader\n",
      "please provide host to reach database 192.168.1.12\n"
     ]
    },
    {
     "name": "stdout",
     "output_type": "stream",
     "text": [
      "host = '192.168.1.12'\n"
     ]
    },
    {
     "name": "stdin",
     "output_type": "stream",
     "text": [
      "please provide port to reach database \n"
     ]
    },
    {
     "name": "stdout",
     "output_type": "stream",
     "text": [
      "port = 5432\n"
     ]
    }
   ],
   "source": [
    "pw = input('please provide postgres database password:  ')\n",
    "host = input('please provide host to reach database:  ') or 'localhost'\n",
    "print(f'{host = }')\n",
    "port = input('please provide port to reach database:  ') or 5432\n",
    "print(f'{port = }')\n",
    "eng = database.engine(pw=pw, host=host, port=port)"
   ]
  },
  {
   "cell_type": "code",
   "execution_count": 3,
   "id": "0fdd5ade-a4ce-40c4-bb63-a58a39cd5269",
   "metadata": {},
   "outputs": [
    {
     "name": "stdout",
     "output_type": "stream",
     "text": [
      "2023-02-08 12:29:55,685 INFO sqlalchemy.engine.Engine select pg_catalog.version()\n",
      "2023-02-08 12:29:55,686 INFO sqlalchemy.engine.Engine [raw sql] {}\n",
      "2023-02-08 12:29:55,694 INFO sqlalchemy.engine.Engine select current_schema()\n",
      "2023-02-08 12:29:55,695 INFO sqlalchemy.engine.Engine [raw sql] {}\n",
      "2023-02-08 12:29:55,703 INFO sqlalchemy.engine.Engine show standard_conforming_strings\n",
      "2023-02-08 12:29:55,703 INFO sqlalchemy.engine.Engine [raw sql] {}\n",
      "2023-02-08 12:29:55,713 INFO sqlalchemy.engine.Engine BEGIN (implicit)\n",
      "2023-02-08 12:29:55,714 INFO sqlalchemy.engine.Engine \n",
      "                CREATE TABLE IF NOT EXISTS listings (\n",
      "                    id            SERIAL PRIMARY KEY,\n",
      "                    autotrader_id VARCHAR(9),\n",
      "                    color         VARCHAR(55),\n",
      "                    condition     VARCHAR(16),\n",
      "                    drive_type    VARCHAR(55),\n",
      "                    engine        VARCHAR(55),\n",
      "                    make          VARCHAR(55),\n",
      "                    mileage       INTEGER,\n",
      "                    model         VARCHAR(55),\n",
      "                    mpg_city      INTEGER,\n",
      "                    mpg_hwy       INTEGER,\n",
      "                    owner         VARCHAR(255),\n",
      "                    price         INTEGER,\n",
      "                    trim          VARCHAR(55),\n",
      "                    truck_bed     VARCHAR(55),\n",
      "                    truck_cab     VARCHAR(55),\n",
      "                    vin           VARCHAR(17),\n",
      "                    year          INTEGER,\n",
      "                    zip           VARCHAR(5),\n",
      "                    scrape_date   DATE NOT NULL DEFAULT CURRENT_DATE\n",
      "                );\n",
      "            \n",
      "2023-02-08 12:29:55,714 INFO sqlalchemy.engine.Engine [generated in 0.00054s] {}\n",
      "2023-02-08 12:29:55,724 INFO sqlalchemy.engine.Engine COMMIT\n",
      "2023-02-08 12:29:55,729 INFO sqlalchemy.engine.Engine BEGIN (implicit)\n",
      "2023-02-08 12:29:55,729 INFO sqlalchemy.engine.Engine \n",
      "                CREATE TABLE IF NOT EXISTS vehicle_features (\n",
      "                    vin          VARCHAR(17) NOT NULL,\n",
      "                    feature      VARCHAR(255) NOT NULL,\n",
      "                    scrape_date  DATE NOT NULL DEFAULT CURRENT_DATE,\n",
      "                    PRIMARY KEY (vin, feature)\n",
      "                );\n",
      "            \n",
      "2023-02-08 12:29:55,730 INFO sqlalchemy.engine.Engine [generated in 0.00029s] {}\n",
      "2023-02-08 12:29:55,739 INFO sqlalchemy.engine.Engine COMMIT\n",
      "2023-02-08 12:29:55,743 INFO sqlalchemy.engine.Engine BEGIN (implicit)\n",
      "2023-02-08 12:29:55,744 INFO sqlalchemy.engine.Engine \n",
      "                CREATE TABLE IF NOT EXISTS vehicle_packages (\n",
      "                    vin          VARCHAR(17) NOT NULL,\n",
      "                    package      VARCHAR(105) NOT NULL,\n",
      "                    scrape_date  DATE NOT NULL DEFAULT CURRENT_DATE,\n",
      "                    PRIMARY KEY (vin, package)\n",
      "                );\n",
      "            \n",
      "2023-02-08 12:29:55,744 INFO sqlalchemy.engine.Engine [generated in 0.00028s] {}\n",
      "2023-02-08 12:29:55,752 INFO sqlalchemy.engine.Engine COMMIT\n",
      "2023-02-08 12:29:55,756 INFO sqlalchemy.engine.Engine BEGIN (implicit)\n",
      "2023-02-08 12:29:55,757 INFO sqlalchemy.engine.Engine \n",
      "                CREATE TABLE IF NOT EXISTS shady_dealers (\n",
      "                    name                VARCHAR(255) PRIMARY KEY,\n",
      "                    shadiness_score     SMALLINT NOT NULL,\n",
      "                    reason              TEXT NOT NULL,\n",
      "                    created_at          TIMESTAMP NOT NULL DEFAULT CURRENT_TIMESTAMP,\n",
      "                    updated_at          TIMESTAMP NOT NULL DEFAULT CURRENT_TIMESTAMP\n",
      "                );             \n",
      "            \n",
      "2023-02-08 12:29:55,757 INFO sqlalchemy.engine.Engine [generated in 0.00042s] {}\n",
      "2023-02-08 12:29:55,788 INFO sqlalchemy.engine.Engine COMMIT\n"
     ]
    }
   ],
   "source": [
    "database.create_tables(eng)"
   ]
  },
  {
   "cell_type": "code",
   "execution_count": null,
   "id": "558abcc3-ef1a-4fbd-ae74-2280a6d38cf1",
   "metadata": {},
   "outputs": [],
   "source": [
    "database.save_listings(eng, [\n",
    "        {\n",
    "            \"autotrader_id\": \"669485363\",\n",
    "            \"color\": \"blue\",\n",
    "            \"condition\": \"used\",\n",
    "            \"drive_type\": \"2 wheel drive - rear\",\n",
    "            \"engine\": \"8-cylinder turbo\",\n",
    "            \"features\": None,\n",
    "            \"make\": 'ferrari',\n",
    "            \"mileage\": 352,\n",
    "            \"model\": 'F8 Tributo',\n",
    "            \"mpg_city\": 15,\n",
    "            \"mpg_hwy\": 19,\n",
    "            \"owner\": 'Used Car Lot',\n",
    "            \"packages\": [\n",
    "                '302A Luxury Package',\n",
    "                'Trailer Tow Pkg',\n",
    "            ],\n",
    "            \"price\": 449900,\n",
    "            \"trim\": None,\n",
    "            \"truck_bed\": None,\n",
    "            \"truck_cab\": None,\n",
    "            \"vin\": \"ZFF92LLA7N0279141\",\n",
    "            \"year\": 2022,\n",
    "            \"zip\": \"75244\"\n",
    "        },\n",
    "        {\n",
    "            \"autotrader_id\": \"669485363\",\n",
    "            \"color\": \"blue\",\n",
    "            \"condition\": \"used\",\n",
    "            \"drive_type\": \"2 wheel drive - rear\",\n",
    "            \"engine\": \"8-cylinder turbo\",\n",
    "            \"features\": None,\n",
    "            \"make\": 'ferrari',\n",
    "            \"mileage\": 352,\n",
    "            \"model\": 'F8 Tributo',\n",
    "            \"mpg_city\": 15,\n",
    "            \"mpg_hwy\": 19,\n",
    "            \"owner\": 'Used Car Lot',\n",
    "            \"packages\": [\n",
    "                '302A Luxury Package',\n",
    "                'Trailer Tow Pkg',\n",
    "            ],\n",
    "            \"price\": 449900,\n",
    "            \"trim\": None,\n",
    "            \"truck_bed\": None,\n",
    "            \"truck_cab\": None,\n",
    "            \"vin\": \"ZFF92LLA7N0279141\",\n",
    "            \"year\": 2022,\n",
    "            \"zip\": \"75244\"\n",
    "        },\n",
    "        {\n",
    "            \"autotrader_id\": \"669485364\",\n",
    "            \"color\": \"blue\",\n",
    "            \"condition\": \"new\",\n",
    "            \"drive_type\": \"2 wheel drive - rear\",\n",
    "            \"engine\": \"8-cylinder\",\n",
    "            \"features\": [\n",
    "                'Apple CarPlay',\n",
    "                'Android Auto',\n",
    "            ],\n",
    "            \"make\": 'ferrari',\n",
    "            \"mileage\": 352,\n",
    "            \"model\": '458_italia',\n",
    "            \"mpg_city\": 15,\n",
    "            \"mpg_hwy\": 19,\n",
    "            \"owner\": 'Luxury Super Cars Ltd',\n",
    "            \"packages\": [],\n",
    "            \"price\": 349900,\n",
    "            \"trim\": None,\n",
    "            \"truck_bed\": None,\n",
    "            \"truck_cab\": None,\n",
    "            \"vin\": \"ZFF92LLA7N0279142\",\n",
    "            \"year\": 2022,\n",
    "            \"zip\": \"75244\"\n",
    "        },\n",
    "        {\n",
    "            \"autotrader_id\": \"669485364\",\n",
    "            \"color\": \"blue\",\n",
    "            \"condition\": \"new\",\n",
    "            \"drive_type\": \"2 wheel drive - rear\",\n",
    "            \"engine\": \"8-cylinder\",\n",
    "            \"features\": [\n",
    "                'Apple CarPlay',\n",
    "                'Android Auto',\n",
    "            ],\n",
    "            \"make\": 'ferrari',\n",
    "            \"mileage\": 352,\n",
    "            \"model\": '458_italia',\n",
    "            \"mpg_city\": 15,\n",
    "            \"mpg_hwy\": 19,\n",
    "            \"owner\": 'Luxury Super Cars Ltd',\n",
    "            \"packages\": None,\n",
    "            \"price\": 249900,\n",
    "            \"trim\": None,\n",
    "            \"truck_bed\": None,\n",
    "            \"truck_cab\": None,\n",
    "            \"vin\": \"ZFF92LLA7N0279142\",\n",
    "            \"year\": 2022,\n",
    "            \"zip\": \"75244\"\n",
    "        }\n",
    "    ])"
   ]
  },
  {
   "cell_type": "code",
   "execution_count": null,
   "id": "2f2198d2-a8e9-47df-809d-806e2c8c0ac5",
   "metadata": {},
   "outputs": [],
   "source": [
    "res = database.select_listings(eng)"
   ]
  },
  {
   "cell_type": "code",
   "execution_count": null,
   "id": "aab0b068-6fe8-4ed3-bcb9-2574528dd96e",
   "metadata": {},
   "outputs": [],
   "source": [
    "database.export_listings(res, 'data/database_ipynb_output.csv')"
   ]
  }
 ],
 "metadata": {
  "kernelspec": {
   "display_name": "Python 3 (ipykernel)",
   "language": "python",
   "name": "python3"
  },
  "language_info": {
   "codemirror_mode": {
    "name": "ipython",
    "version": 3
   },
   "file_extension": ".py",
   "mimetype": "text/x-python",
   "name": "python",
   "nbconvert_exporter": "python",
   "pygments_lexer": "ipython3",
   "version": "3.11.0"
  },
  "vscode": {
   "interpreter": {
    "hash": "da7ff66279828e02bcb15e4d172a25b16c7fd925225a7effac5c4dc09335fd7a"
   }
  }
 },
 "nbformat": 4,
 "nbformat_minor": 5
}
