{
 "cells": [
  {
   "cell_type": "code",
   "execution_count": 1,
   "id": "f1330b06-1b59-4b0a-bfde-643b8a6b8d7f",
   "metadata": {},
   "outputs": [],
   "source": [
    "import database"
   ]
  },
  {
   "cell_type": "code",
   "execution_count": 2,
   "id": "785db14b-2422-49c7-a527-b2fbe79fd571",
   "metadata": {},
   "outputs": [
    {
     "name": "stdin",
     "output_type": "stream",
     "text": [
      "please provide postgres database password:   autotrader\n",
      "please provide host to reach database:   192.168.1.12\n"
     ]
    },
    {
     "name": "stdout",
     "output_type": "stream",
     "text": [
      "host = '192.168.1.12'\n"
     ]
    },
    {
     "name": "stdin",
     "output_type": "stream",
     "text": [
      "please provide port to reach database:   \n"
     ]
    },
    {
     "name": "stdout",
     "output_type": "stream",
     "text": [
      "port = 5432\n"
     ]
    }
   ],
   "source": [
    "pw = input('please provide postgres database password:  ')\n",
    "host = input('please provide host to reach database:  ') or 'localhost'\n",
    "print(f'{host = }')\n",
    "port = input('please provide port to reach database:  ') or 5432\n",
    "print(f'{port = }')\n",
    "eng = database.engine(pw=pw, host=host, port=port)"
   ]
  },
  {
   "cell_type": "code",
   "execution_count": 3,
   "id": "0fdd5ade-a4ce-40c4-bb63-a58a39cd5269",
   "metadata": {},
   "outputs": [],
   "source": [
    "database.create_tables(eng)"
   ]
  },
  {
   "cell_type": "code",
   "execution_count": null,
   "id": "558abcc3-ef1a-4fbd-ae74-2280a6d38cf1",
   "metadata": {},
   "outputs": [],
   "source": [
    "database.save_listings(eng, [\n",
    "        {\n",
    "            \"autotrader_id\": \"669485363\",\n",
    "            \"color\": \"blue\",\n",
    "            \"condition\": \"used\",\n",
    "            \"drive_type\": \"2 wheel drive - rear\",\n",
    "            \"engine\": \"8-cylinder turbo\",\n",
    "            \"features\": None,\n",
    "            \"make\": 'ferrari',\n",
    "            \"mileage\": 352,\n",
    "            \"model\": 'F8 Tributo',\n",
    "            \"mpg_city\": 15,\n",
    "            \"mpg_hwy\": 19,\n",
    "            \"owner\": 'Used Car Lot',\n",
    "            \"packages\": [\n",
    "                '302A Luxury Package',\n",
    "                'Trailer Tow Pkg',\n",
    "            ],\n",
    "            \"price\": 449900,\n",
    "            \"trim\": None,\n",
    "            \"truck_bed\": None,\n",
    "            \"truck_cab\": None,\n",
    "            \"vin\": \"ZFF92LLA7N0279141\",\n",
    "            \"year\": 2022,\n",
    "            \"zip\": \"75244\"\n",
    "        },\n",
    "        {\n",
    "            \"autotrader_id\": \"669485363\",\n",
    "            \"color\": \"blue\",\n",
    "            \"condition\": \"used\",\n",
    "            \"drive_type\": \"2 wheel drive - rear\",\n",
    "            \"engine\": \"8-cylinder turbo\",\n",
    "            \"features\": None,\n",
    "            \"make\": 'ferrari',\n",
    "            \"mileage\": 352,\n",
    "            \"model\": 'F8 Tributo',\n",
    "            \"mpg_city\": 15,\n",
    "            \"mpg_hwy\": 19,\n",
    "            \"owner\": 'Used Car Lot',\n",
    "            \"packages\": [\n",
    "                '302A Luxury Package',\n",
    "                'Trailer Tow Pkg',\n",
    "            ],\n",
    "            \"price\": 449900,\n",
    "            \"trim\": None,\n",
    "            \"truck_bed\": None,\n",
    "            \"truck_cab\": None,\n",
    "            \"vin\": \"ZFF92LLA7N0279141\",\n",
    "            \"year\": 2022,\n",
    "            \"zip\": \"75244\"\n",
    "        },\n",
    "        {\n",
    "            \"autotrader_id\": \"669485364\",\n",
    "            \"color\": \"blue\",\n",
    "            \"condition\": \"new\",\n",
    "            \"drive_type\": \"2 wheel drive - rear\",\n",
    "            \"engine\": \"8-cylinder\",\n",
    "            \"features\": [\n",
    "                'Apple CarPlay',\n",
    "                'Android Auto',\n",
    "            ],\n",
    "            \"make\": 'ferrari',\n",
    "            \"mileage\": 352,\n",
    "            \"model\": '458_italia',\n",
    "            \"mpg_city\": 15,\n",
    "            \"mpg_hwy\": 19,\n",
    "            \"owner\": 'Luxury Super Cars Ltd',\n",
    "            \"packages\": [],\n",
    "            \"price\": 349900,\n",
    "            \"trim\": None,\n",
    "            \"truck_bed\": None,\n",
    "            \"truck_cab\": None,\n",
    "            \"vin\": \"ZFF92LLA7N0279142\",\n",
    "            \"year\": 2022,\n",
    "            \"zip\": \"75244\"\n",
    "        },\n",
    "        {\n",
    "            \"autotrader_id\": \"669485364\",\n",
    "            \"color\": \"blue\",\n",
    "            \"condition\": \"new\",\n",
    "            \"drive_type\": \"2 wheel drive - rear\",\n",
    "            \"engine\": \"8-cylinder\",\n",
    "            \"features\": [\n",
    "                'Apple CarPlay',\n",
    "                'Android Auto',\n",
    "            ],\n",
    "            \"make\": 'ferrari',\n",
    "            \"mileage\": 352,\n",
    "            \"model\": '458_italia',\n",
    "            \"mpg_city\": 15,\n",
    "            \"mpg_hwy\": 19,\n",
    "            \"owner\": 'Luxury Super Cars Ltd',\n",
    "            \"packages\": None,\n",
    "            \"price\": 249900,\n",
    "            \"trim\": None,\n",
    "            \"truck_bed\": None,\n",
    "            \"truck_cab\": None,\n",
    "            \"vin\": \"ZFF92LLA7N0279142\",\n",
    "            \"year\": 2022,\n",
    "            \"zip\": \"75244\"\n",
    "        }\n",
    "    ])"
   ]
  },
  {
   "cell_type": "code",
   "execution_count": null,
   "id": "2f2198d2-a8e9-47df-809d-806e2c8c0ac5",
   "metadata": {},
   "outputs": [],
   "source": [
    "res = database.select_listings(eng)"
   ]
  },
  {
   "cell_type": "code",
   "execution_count": null,
   "id": "aab0b068-6fe8-4ed3-bcb9-2574528dd96e",
   "metadata": {},
   "outputs": [],
   "source": [
    "database.export_listings(res, 'data/database_ipynb_output.csv')"
   ]
  }
 ],
 "metadata": {
  "kernelspec": {
   "display_name": "Python 3 (ipykernel)",
   "language": "python",
   "name": "python3"
  },
  "language_info": {
   "codemirror_mode": {
    "name": "ipython",
    "version": 3
   },
   "file_extension": ".py",
   "mimetype": "text/x-python",
   "name": "python",
   "nbconvert_exporter": "python",
   "pygments_lexer": "ipython3",
   "version": "3.11.0"
  },
  "vscode": {
   "interpreter": {
    "hash": "da7ff66279828e02bcb15e4d172a25b16c7fd925225a7effac5c4dc09335fd7a"
   }
  }
 },
 "nbformat": 4,
 "nbformat_minor": 5
}
