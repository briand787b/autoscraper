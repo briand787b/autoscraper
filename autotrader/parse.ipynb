{
 "cells": [
  {
   "cell_type": "code",
   "execution_count": null,
   "id": "ef310d1f-51f7-406d-b7bb-e96840c96f83",
   "metadata": {},
   "outputs": [],
   "source": [
    "import json\n",
    "with open('data/response_data.json') as file:\n",
    "    data = json.load(file)"
   ]
  },
  {
   "cell_type": "code",
   "execution_count": null,
   "id": "ecd08880-75ae-4d46-88b0-f166f70e16d0",
   "metadata": {},
   "outputs": [],
   "source": [
    "import parse\n",
    "inventory = parse.parse(data)"
   ]
  },
  {
   "cell_type": "code",
   "execution_count": null,
   "id": "ae4b1317-b053-4f6c-a189-48dc0408d81b",
   "metadata": {},
   "outputs": [],
   "source": [
    "inventory"
   ]
  }
 ],
 "metadata": {
  "kernelspec": {
   "display_name": "Python 3 (ipykernel)",
   "language": "python",
   "name": "python3"
  },
  "language_info": {
   "codemirror_mode": {
    "name": "ipython",
    "version": 3
   },
   "file_extension": ".py",
   "mimetype": "text/x-python",
   "name": "python",
   "nbconvert_exporter": "python",
   "pygments_lexer": "ipython3",
   "version": "3.11.0"
  }
 },
 "nbformat": 4,
 "nbformat_minor": 5
}
